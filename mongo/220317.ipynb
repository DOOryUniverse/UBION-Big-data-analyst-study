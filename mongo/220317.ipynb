{
 "cells": [
  {
   "cell_type": "code",
   "execution_count": 5,
   "metadata": {},
   "outputs": [],
   "source": [
    "from pymongo import MongoClient"
   ]
  },
  {
   "cell_type": "code",
   "execution_count": 6,
   "metadata": {},
   "outputs": [],
   "source": [
    "client=MongoClient(\n",
    "    host = 'localhost',\n",
    "    port=27017\n",
    ")"
   ]
  },
  {
   "cell_type": "code",
   "execution_count": 7,
   "metadata": {},
   "outputs": [
    {
     "data": {
      "text/plain": [
       "['admin', 'config', 'local', 'ubion']"
      ]
     },
     "execution_count": 7,
     "metadata": {},
     "output_type": "execute_result"
    }
   ],
   "source": [
    "client.list_database_names()\n",
    "#데이터베이스 확인해주기"
   ]
  },
  {
   "cell_type": "code",
   "execution_count": 8,
   "metadata": {},
   "outputs": [],
   "source": [
    "db=client[\"ubion\"]\n",
    "#db라고 하는 변수를 쓰면 ubion이라고 하는 데이터베이스를 쓰는것\n"
   ]
  },
  {
   "cell_type": "code",
   "execution_count": 9,
   "metadata": {},
   "outputs": [
    {
     "data": {
      "text/plain": [
       "<pymongo.cursor.Cursor at 0x1edefe5d100>"
      ]
     },
     "execution_count": 9,
     "metadata": {},
     "output_type": "execute_result"
    }
   ],
   "source": [
    "db.test.find()\n",
    "#test라는 거 불러주기\n",
    "#데이터 형태때문에 출력이 안되는 것"
   ]
  },
  {
   "cell_type": "code",
   "execution_count": 10,
   "metadata": {},
   "outputs": [
    {
     "data": {
      "text/plain": [
       "[{'_id': ObjectId('62328e816b824df43fef8783'),\n",
       "  'name': 'test',\n",
       "  'phone': '01012345678'},\n",
       " {'_id': ObjectId('623290556b824df43fef8785'), 'loc': 'Seoul'},\n",
       " {'_id': ObjectId('623290556b824df43fef8786'),\n",
       "  'gender': 'male',\n",
       "  'age': 20.0,\n",
       "  'hobby': 'soccer'}]"
      ]
     },
     "execution_count": 10,
     "metadata": {},
     "output_type": "execute_result"
    }
   ],
   "source": [
    "list(db.test.find())\n",
    "#딕셔너리로 저장되어있던 것을 리스트형태로 해놓음 그래야 출력해서 나옴.\n",
    "#클래스와 함수를 불러오는 것 .의 형태"
   ]
  },
  {
   "cell_type": "code",
   "execution_count": 11,
   "metadata": {},
   "outputs": [
    {
     "data": {
      "text/plain": [
       "[{'_id': ObjectId('62328e816b824df43fef8783'),\n",
       "  'name': 'test',\n",
       "  'phone': '01012345678'},\n",
       " {'_id': ObjectId('623290556b824df43fef8785'), 'loc': 'Seoul'},\n",
       " {'_id': ObjectId('623290556b824df43fef8786'),\n",
       "  'gender': 'male',\n",
       "  'age': 20.0,\n",
       "  'hobby': 'soccer'}]"
      ]
     },
     "execution_count": 11,
     "metadata": {},
     "output_type": "execute_result"
    }
   ],
   "source": [
    "cb=client[\"ubion\"]\n",
    "list(db[\"test\"].find())\n",
    "#키값의 형태를 불러오는 [\"test\"]형태\n"
   ]
  },
  {
   "cell_type": "code",
   "execution_count": 12,
   "metadata": {},
   "outputs": [
    {
     "data": {
      "text/plain": [
       "<pymongo.results.InsertOneResult at 0x1edf2903900>"
      ]
     },
     "execution_count": 12,
     "metadata": {},
     "output_type": "execute_result"
    }
   ],
   "source": [
    "data={\n",
    "    \"1\": \"1\",\n",
    "    \"2\":\"2\",\n",
    "    \"3\":\"3\"\n",
    "}\n",
    "db.test.insert_one(data)\n",
    "#.insert_one,.insert_many 차이가 쉽게 보임"
   ]
  },
  {
   "cell_type": "code",
   "execution_count": 13,
   "metadata": {},
   "outputs": [
    {
     "data": {
      "text/plain": [
       "<pymongo.results.InsertManyResult at 0x1edf29012c0>"
      ]
     },
     "execution_count": 13,
     "metadata": {},
     "output_type": "execute_result"
    }
   ],
   "source": [
    "#\n",
    "data_2=[{\n",
    "    \"team_1\":\"Chelsea\",\n",
    "     \"team_2\":\"Manchester\",\n",
    "     \"team_3\": \"Arsenal\"},\n",
    "    {\n",
    "    \"food_1\": \"ramen\",\n",
    "    \"food_2\":\"chicken\",\n",
    "    \"food_3\":\"shrimp\"\n",
    "\n",
    "    }]\n",
    "db.test.insert_many(data_2)\n"
   ]
  },
  {
   "cell_type": "code",
   "execution_count": 14,
   "metadata": {},
   "outputs": [
    {
     "data": {
      "text/plain": [
       "[{'_id': ObjectId('62328e816b824df43fef8783'),\n",
       "  'name': 'test',\n",
       "  'phone': '01012345678'},\n",
       " {'_id': ObjectId('623290556b824df43fef8785'), 'loc': 'Seoul'},\n",
       " {'_id': ObjectId('623290556b824df43fef8786'),\n",
       "  'gender': 'male',\n",
       "  'age': 20.0,\n",
       "  'hobby': 'soccer'},\n",
       " {'_id': ObjectId('6232b45ba1fe1113784d5008'), '1': '1', '2': '2', '3': '3'},\n",
       " {'_id': ObjectId('6232b45da1fe1113784d5009'),\n",
       "  'team_1': 'Chelsea',\n",
       "  'team_2': 'Manchester',\n",
       "  'team_3': 'Arsenal'},\n",
       " {'_id': ObjectId('6232b45da1fe1113784d500a'),\n",
       "  'food_1': 'ramen',\n",
       "  'food_2': 'chicken',\n",
       "  'food_3': 'shrimp'}]"
      ]
     },
     "execution_count": 14,
     "metadata": {},
     "output_type": "execute_result"
    }
   ],
   "source": [
    "list(db[\"test\"].find())"
   ]
  },
  {
   "cell_type": "code",
   "execution_count": 15,
   "metadata": {},
   "outputs": [
    {
     "data": {
      "text/plain": [
       "[{'_id': ObjectId('62328e816b824df43fef8783')},\n",
       " {'_id': ObjectId('623290556b824df43fef8785')},\n",
       " {'_id': ObjectId('623290556b824df43fef8786')},\n",
       " {'_id': ObjectId('6232b45ba1fe1113784d5008')},\n",
       " {'_id': ObjectId('6232b45da1fe1113784d5009')},\n",
       " {'_id': ObjectId('6232b45da1fe1113784d500a'),\n",
       "  'food_1': 'ramen',\n",
       "  'food_2': 'chicken'}]"
      ]
     },
     "execution_count": 15,
     "metadata": {},
     "output_type": "execute_result"
    }
   ],
   "source": [
    "list(db.test.find({},{\"food_1\" :1,\"food_2\" :1}))\n",
    "#true와 false인 값을 1,0으로 구분해서 (모든 데이터에서 일부 key값을 가져오기: db.[컬렉션명].find({},{key:1,key:1..}))"
   ]
  },
  {
   "cell_type": "code",
   "execution_count": 20,
   "metadata": {},
   "outputs": [],
   "source": [
    "import mod_sql\n",
    "import pandas as pd\n",
    "import pprint"
   ]
  },
  {
   "cell_type": "code",
   "execution_count": 17,
   "metadata": {},
   "outputs": [],
   "source": [
    "_db = mod_sql.Database()"
   ]
  },
  {
   "cell_type": "code",
   "execution_count": 24,
   "metadata": {},
   "outputs": [],
   "source": [
    "sql =  \"\"\" \n",
    "       SELECT * FROM emp\n",
    "       \"\"\"\n",
    "result = _db.executeAll(sql)\n",
    "pd.DataFrame(result).to_csv(\"emp.csv\")"
   ]
  },
  {
   "cell_type": "code",
   "execution_count": 25,
   "metadata": {},
   "outputs": [
    {
     "data": {
      "text/plain": [
       "<bound method Collection.find_one of Collection(Database(MongoClient(host=['localhost:27017'], document_class=dict, tz_aware=False, connect=True), 'ubion'), 'emp')>"
      ]
     },
     "execution_count": 25,
     "metadata": {},
     "output_type": "execute_result"
    }
   ],
   "source": [
    "db.emp.find_one"
   ]
  },
  {
   "cell_type": "code",
   "execution_count": 27,
   "metadata": {},
   "outputs": [
    {
     "data": {
      "text/plain": [
       "[{'_id': ObjectId('6232b7a691d4755e775ae5b8'),\n",
       "  '': '0',\n",
       "  'ENAME': 'SMITH',\n",
       "  'JOB': 'CLERK',\n",
       "  'MGR': '7902',\n",
       "  'HIREDATE': '1980-12-17',\n",
       "  'SAL': '800.00',\n",
       "  'DEPTNO': '20'}]"
      ]
     },
     "execution_count": 27,
     "metadata": {},
     "output_type": "execute_result"
    }
   ],
   "source": [
    "list(db.emp.find(\n",
    "     {\"ENAME\" : \"SMITH\"\n",
    "     }\n",
    "))\n",
    "# 이거는 select * from where ename = \"smith\""
   ]
  },
  {
   "cell_type": "code",
   "execution_count": 28,
   "metadata": {},
   "outputs": [
    {
     "name": "stdout",
     "output_type": "stream",
     "text": [
      "{'_id': ObjectId('6232b9a991d4755e775ae5c8'), 'EMPNO': '7369', 'ENAME': 'SMITH', 'JOB': 'CLERK', 'MGR': '7902', 'HIREDATE': '1980-12-17', 'SAL': '800.00', 'DEPTNO': '20'}\n",
      "{'_id': ObjectId('6232b9a991d4755e775ae5c9'), 'EMPNO': '7499', 'ENAME': 'ALLEN', 'JOB': 'SALESMAN', 'MGR': '7698', 'HIREDATE': '1981-02-20', 'SAL': '1600.00', 'COMM': '300.00', 'DEPTNO': '30'}\n",
      "{'_id': ObjectId('6232b9a991d4755e775ae5ca'), 'EMPNO': '7521', 'ENAME': 'WARD', 'JOB': 'SALESMAN', 'MGR': '7698', 'HIREDATE': '1981-02-22', 'SAL': '1250.00', 'COMM': '500.00', 'DEPTNO': '30'}\n",
      "{'_id': ObjectId('6232b9a991d4755e775ae5cb'), 'EMPNO': '7566', 'ENAME': 'JONES', 'JOB': 'MANAGER', 'MGR': '7839', 'HIREDATE': '1981-04-02', 'SAL': '2975.00', 'DEPTNO': '20'}\n",
      "{'_id': ObjectId('6232b9a991d4755e775ae5cc'), 'EMPNO': '7654', 'ENAME': 'MARTIN', 'JOB': 'SALESMAN', 'MGR': '7698', 'HIREDATE': '1981-09-28', 'SAL': '1250.00', 'COMM': '1400.00', 'DEPTNO': '30'}\n",
      "{'_id': ObjectId('6232b9a991d4755e775ae5cd'), 'EMPNO': '7698', 'ENAME': 'BLAKE', 'JOB': 'MANAGER', 'MGR': '7839', 'HIREDATE': '1981-05-01', 'SAL': '2850.00', 'DEPTNO': '30'}\n",
      "{'_id': ObjectId('6232b9a991d4755e775ae5ce'), 'EMPNO': '7782', 'ENAME': 'CLARK', 'JOB': 'MANAGER', 'MGR': '7839', 'HIREDATE': '1981-06-09', 'SAL': '2450.00', 'DEPTNO': '10'}\n",
      "{'_id': ObjectId('6232b9a991d4755e775ae5cf'), 'EMPNO': '7788', 'ENAME': 'SCOTT', 'JOB': 'ANALYST', 'MGR': '7566', 'HIREDATE': '1987-06-28', 'SAL': '3000.00', 'DEPTNO': '20'}\n",
      "{'_id': ObjectId('6232b9a991d4755e775ae5d0'), 'EMPNO': '7839', 'ENAME': 'KING', 'JOB': 'PRESIDENT', 'HIREDATE': '1981-11-17', 'SAL': '5000.00', 'DEPTNO': '10'}\n",
      "{'_id': ObjectId('6232b9a991d4755e775ae5d1'), 'EMPNO': '7844', 'ENAME': 'TURNER', 'JOB': 'SALESMAN', 'MGR': '7698', 'HIREDATE': '1981-09-08', 'SAL': '1500.00', 'COMM': '0.00', 'DEPTNO': '30'}\n",
      "{'_id': ObjectId('6232b9a991d4755e775ae5d2'), 'EMPNO': '7876', 'ENAME': 'ADAMS', 'JOB': 'CLERK', 'MGR': '7788', 'HIREDATE': '1987-07-13', 'SAL': '1100.00', 'DEPTNO': '20'}\n",
      "{'_id': ObjectId('6232b9a991d4755e775ae5d3'), 'EMPNO': '7900', 'ENAME': 'JAMES', 'JOB': 'CLERK', 'MGR': '7698', 'HIREDATE': '1981-12-03', 'SAL': '950.00', 'DEPTNO': '30'}\n",
      "{'_id': ObjectId('6232b9a991d4755e775ae5d4'), 'EMPNO': '7902', 'ENAME': 'FORD', 'JOB': 'ANALYST', 'MGR': '7566', 'HIREDATE': '1981-12-03', 'SAL': '3000.00', 'DEPTNO': '20'}\n",
      "{'_id': ObjectId('6232b9a991d4755e775ae5d5'), 'EMPNO': '7934', 'ENAME': 'MILLER', 'JOB': 'CLERK', 'MGR': '7782', 'HIREDATE': '1982-01-23', 'SAL': '1300.00', 'DEPTNO': '10'}\n"
     ]
    }
   ],
   "source": [
    "result = db.emp.find()\n",
    "\n",
    "for list in result:\n",
    "    print(list)\n",
    "    "
   ]
  },
  {
   "cell_type": "code",
   "execution_count": 30,
   "metadata": {},
   "outputs": [
    {
     "name": "stdout",
     "output_type": "stream",
     "text": [
      "{'_id': ObjectId('6232b9a991d4755e775ae5c8'), 'EMPNO': '7369', 'ENAME': 'SMITH', 'DEPTNO': '20'}\n",
      "{'_id': ObjectId('6232b9a991d4755e775ae5c9'), 'EMPNO': '7499', 'ENAME': 'ALLEN', 'DEPTNO': '30'}\n",
      "{'_id': ObjectId('6232b9a991d4755e775ae5ca'), 'EMPNO': '7521', 'ENAME': 'WARD', 'DEPTNO': '30'}\n",
      "{'_id': ObjectId('6232b9a991d4755e775ae5cb'), 'EMPNO': '7566', 'ENAME': 'JONES', 'DEPTNO': '20'}\n",
      "{'_id': ObjectId('6232b9a991d4755e775ae5cc'), 'EMPNO': '7654', 'ENAME': 'MARTIN', 'DEPTNO': '30'}\n",
      "{'_id': ObjectId('6232b9a991d4755e775ae5cd'), 'EMPNO': '7698', 'ENAME': 'BLAKE', 'DEPTNO': '30'}\n",
      "{'_id': ObjectId('6232b9a991d4755e775ae5ce'), 'EMPNO': '7782', 'ENAME': 'CLARK', 'DEPTNO': '10'}\n",
      "{'_id': ObjectId('6232b9a991d4755e775ae5cf'), 'EMPNO': '7788', 'ENAME': 'SCOTT', 'DEPTNO': '20'}\n",
      "{'_id': ObjectId('6232b9a991d4755e775ae5d0'), 'EMPNO': '7839', 'ENAME': 'KING', 'DEPTNO': '10'}\n",
      "{'_id': ObjectId('6232b9a991d4755e775ae5d1'), 'EMPNO': '7844', 'ENAME': 'TURNER', 'DEPTNO': '30'}\n",
      "{'_id': ObjectId('6232b9a991d4755e775ae5d2'), 'EMPNO': '7876', 'ENAME': 'ADAMS', 'DEPTNO': '20'}\n",
      "{'_id': ObjectId('6232b9a991d4755e775ae5d3'), 'EMPNO': '7900', 'ENAME': 'JAMES', 'DEPTNO': '30'}\n",
      "{'_id': ObjectId('6232b9a991d4755e775ae5d4'), 'EMPNO': '7902', 'ENAME': 'FORD', 'DEPTNO': '20'}\n",
      "{'_id': ObjectId('6232b9a991d4755e775ae5d5'), 'EMPNO': '7934', 'ENAME': 'MILLER', 'DEPTNO': '10'}\n"
     ]
    }
   ],
   "source": [
    "## emp collection\n",
    "## key 값이 empno, ename, deptno 만 출력이 되도록 코드를 작성\n",
    "\n",
    "result = db.emp.find(\n",
    "    {},               # where 조건을 쓸때 사용하는 공간\n",
    "    {\"EMPNO\": 1, \n",
    "     \"ENAME\":1,\n",
    "     \"DEPTNO\": 1} #WHERE 절\n",
    ") # select empno, ename, deptno from emp\n",
    "for list in result:\n",
    "    print(list)"
   ]
  },
  {
   "cell_type": "code",
   "execution_count": 32,
   "metadata": {},
   "outputs": [
    {
     "data": {
      "text/plain": [
       "'5'"
      ]
     },
     "execution_count": 32,
     "metadata": {},
     "output_type": "execute_result"
    }
   ],
   "source": [
    "def find(a, b=3):\n",
    "    return a+b\n",
    "find(\"\", \"5\")"
   ]
  },
  {
   "cell_type": "code",
   "execution_count": 33,
   "metadata": {},
   "outputs": [
    {
     "name": "stdout",
     "output_type": "stream",
     "text": [
      "{'_id': ObjectId('6232b9a991d4755e775ae5d2'), 'EMPNO': '7876', 'ENAME': 'ADAMS', 'JOB': 'CLERK', 'MGR': '7788', 'HIREDATE': '1987-07-13', 'SAL': '1100.00', 'DEPTNO': '20'}\n",
      "{'_id': ObjectId('6232b9a991d4755e775ae5c9'), 'EMPNO': '7499', 'ENAME': 'ALLEN', 'JOB': 'SALESMAN', 'MGR': '7698', 'HIREDATE': '1981-02-20', 'SAL': '1600.00', 'COMM': '300.00', 'DEPTNO': '30'}\n",
      "{'_id': ObjectId('6232b9a991d4755e775ae5cd'), 'EMPNO': '7698', 'ENAME': 'BLAKE', 'JOB': 'MANAGER', 'MGR': '7839', 'HIREDATE': '1981-05-01', 'SAL': '2850.00', 'DEPTNO': '30'}\n",
      "{'_id': ObjectId('6232b9a991d4755e775ae5ce'), 'EMPNO': '7782', 'ENAME': 'CLARK', 'JOB': 'MANAGER', 'MGR': '7839', 'HIREDATE': '1981-06-09', 'SAL': '2450.00', 'DEPTNO': '10'}\n",
      "{'_id': ObjectId('6232b9a991d4755e775ae5d4'), 'EMPNO': '7902', 'ENAME': 'FORD', 'JOB': 'ANALYST', 'MGR': '7566', 'HIREDATE': '1981-12-03', 'SAL': '3000.00', 'DEPTNO': '20'}\n",
      "{'_id': ObjectId('6232b9a991d4755e775ae5d3'), 'EMPNO': '7900', 'ENAME': 'JAMES', 'JOB': 'CLERK', 'MGR': '7698', 'HIREDATE': '1981-12-03', 'SAL': '950.00', 'DEPTNO': '30'}\n",
      "{'_id': ObjectId('6232b9a991d4755e775ae5cb'), 'EMPNO': '7566', 'ENAME': 'JONES', 'JOB': 'MANAGER', 'MGR': '7839', 'HIREDATE': '1981-04-02', 'SAL': '2975.00', 'DEPTNO': '20'}\n",
      "{'_id': ObjectId('6232b9a991d4755e775ae5d0'), 'EMPNO': '7839', 'ENAME': 'KING', 'JOB': 'PRESIDENT', 'HIREDATE': '1981-11-17', 'SAL': '5000.00', 'DEPTNO': '10'}\n",
      "{'_id': ObjectId('6232b9a991d4755e775ae5cc'), 'EMPNO': '7654', 'ENAME': 'MARTIN', 'JOB': 'SALESMAN', 'MGR': '7698', 'HIREDATE': '1981-09-28', 'SAL': '1250.00', 'COMM': '1400.00', 'DEPTNO': '30'}\n",
      "{'_id': ObjectId('6232b9a991d4755e775ae5d5'), 'EMPNO': '7934', 'ENAME': 'MILLER', 'JOB': 'CLERK', 'MGR': '7782', 'HIREDATE': '1982-01-23', 'SAL': '1300.00', 'DEPTNO': '10'}\n",
      "{'_id': ObjectId('6232b9a991d4755e775ae5cf'), 'EMPNO': '7788', 'ENAME': 'SCOTT', 'JOB': 'ANALYST', 'MGR': '7566', 'HIREDATE': '1987-06-28', 'SAL': '3000.00', 'DEPTNO': '20'}\n",
      "{'_id': ObjectId('6232b9a991d4755e775ae5c8'), 'EMPNO': '7369', 'ENAME': 'SMITH', 'JOB': 'CLERK', 'MGR': '7902', 'HIREDATE': '1980-12-17', 'SAL': '800.00', 'DEPTNO': '20'}\n",
      "{'_id': ObjectId('6232b9a991d4755e775ae5d1'), 'EMPNO': '7844', 'ENAME': 'TURNER', 'JOB': 'SALESMAN', 'MGR': '7698', 'HIREDATE': '1981-09-08', 'SAL': '1500.00', 'COMM': '0.00', 'DEPTNO': '30'}\n",
      "{'_id': ObjectId('6232b9a991d4755e775ae5ca'), 'EMPNO': '7521', 'ENAME': 'WARD', 'JOB': 'SALESMAN', 'MGR': '7698', 'HIREDATE': '1981-02-22', 'SAL': '1250.00', 'COMM': '500.00', 'DEPTNO': '30'}\n"
     ]
    }
   ],
   "source": [
    "result = db.emp.find().sort(\"ENAME\")\n",
    "for list in result:\n",
    "    print(list)\n",
    "# select * from emp order by ename"
   ]
  },
  {
   "cell_type": "code",
   "execution_count": 36,
   "metadata": {},
   "outputs": [
    {
     "name": "stdout",
     "output_type": "stream",
     "text": [
      "{'_id': ObjectId('6232c6a891d4755e775ae5d9'), 'EMPNO': 7566, 'ENAME': 'JONES', 'JOB': 'MANAGER', 'MGR': 7839, 'HIREDATE': '1981-04-02', 'SAL': 2975.0, 'DEPTNO': 20}\n",
      "{'_id': ObjectId('6232c6a891d4755e775ae5db'), 'EMPNO': 7698, 'ENAME': 'BLAKE', 'JOB': 'MANAGER', 'MGR': 7839, 'HIREDATE': '1981-05-01', 'SAL': 2850.0, 'DEPTNO': 30}\n",
      "{'_id': ObjectId('6232c6a891d4755e775ae5dc'), 'EMPNO': 7782, 'ENAME': 'CLARK', 'JOB': 'MANAGER', 'MGR': 7839, 'HIREDATE': '1981-06-09', 'SAL': 2450.0, 'DEPTNO': 10}\n",
      "{'_id': ObjectId('6232c6a891d4755e775ae5dd'), 'EMPNO': 7788, 'ENAME': 'SCOTT', 'JOB': 'ANALYST', 'MGR': 7566, 'HIREDATE': '1987-06-28', 'SAL': 3000.0, 'DEPTNO': 20}\n",
      "{'_id': ObjectId('6232c6a891d4755e775ae5de'), 'EMPNO': 7839, 'ENAME': 'KING', 'JOB': 'PRESIDENT', 'HIREDATE': '1981-11-17', 'SAL': 5000.0, 'DEPTNO': 10}\n",
      "{'_id': ObjectId('6232c6a891d4755e775ae5e2'), 'EMPNO': 7902, 'ENAME': 'FORD', 'JOB': 'ANALYST', 'MGR': 7566, 'HIREDATE': '1981-12-03', 'SAL': 3000.0, 'DEPTNO': 20}\n"
     ]
    }
   ],
   "source": [
    "# 급여가 2000보다 큰 데이터만 출력\n",
    "result=db.emp.find(\n",
    "       { \n",
    "           \"SAL\" : {\n",
    "               \"$gt\": 2000 # 2000 보다 큰\n",
    "           }\n",
    "\n",
    "       }\n",
    ")\n",
    "for list in result:\n",
    "    print(list)\n",
    "    # select * from emp where sal>2000;"
   ]
  },
  {
   "cell_type": "code",
   "execution_count": 37,
   "metadata": {},
   "outputs": [
    {
     "name": "stdout",
     "output_type": "stream",
     "text": [
      "{'_id': ObjectId('6232c6a891d4755e775ae5d9'), 'EMPNO': 7566, 'ENAME': 'JONES', 'JOB': 'MANAGER', 'MGR': 7839, 'HIREDATE': '1981-04-02', 'SAL': 2975.0, 'DEPTNO': 20}\n",
      "{'_id': ObjectId('6232c6a891d4755e775ae5db'), 'EMPNO': 7698, 'ENAME': 'BLAKE', 'JOB': 'MANAGER', 'MGR': 7839, 'HIREDATE': '1981-05-01', 'SAL': 2850.0, 'DEPTNO': 30}\n",
      "{'_id': ObjectId('6232c6a891d4755e775ae5dc'), 'EMPNO': 7782, 'ENAME': 'CLARK', 'JOB': 'MANAGER', 'MGR': 7839, 'HIREDATE': '1981-06-09', 'SAL': 2450.0, 'DEPTNO': 10}\n",
      "{'_id': ObjectId('6232c6a891d4755e775ae5dd'), 'EMPNO': 7788, 'ENAME': 'SCOTT', 'JOB': 'ANALYST', 'MGR': 7566, 'HIREDATE': '1987-06-28', 'SAL': 3000.0, 'DEPTNO': 20}\n",
      "{'_id': ObjectId('6232c6a891d4755e775ae5de'), 'EMPNO': 7839, 'ENAME': 'KING', 'JOB': 'PRESIDENT', 'HIREDATE': '1981-11-17', 'SAL': 5000.0, 'DEPTNO': 10}\n",
      "{'_id': ObjectId('6232c6a891d4755e775ae5e2'), 'EMPNO': 7902, 'ENAME': 'FORD', 'JOB': 'ANALYST', 'MGR': 7566, 'HIREDATE': '1981-12-03', 'SAL': 3000.0, 'DEPTNO': 20}\n"
     ]
    }
   ],
   "source": [
    "result=db.emp.find(\n",
    "       { \n",
    "           \"SAL\" : {\n",
    "               \"$gte\": 2000 # 2000 보다 크고 같은\n",
    "           }\n",
    "\n",
    "       }\n",
    ")\n",
    "for list in result:\n",
    "    print(list)\n",
    "    # select * from emp where sal>=2000;"
   ]
  },
  {
   "cell_type": "code",
   "execution_count": 38,
   "metadata": {},
   "outputs": [
    {
     "name": "stdout",
     "output_type": "stream",
     "text": [
      "{'_id': ObjectId('6232c6a891d4755e775ae5d6'), 'EMPNO': 7369, 'ENAME': 'SMITH', 'JOB': 'CLERK', 'MGR': 7902, 'HIREDATE': '1980-12-17', 'SAL': 800.0, 'DEPTNO': 20}\n",
      "{'_id': ObjectId('6232c6a891d4755e775ae5d7'), 'EMPNO': 7499, 'ENAME': 'ALLEN', 'JOB': 'SALESMAN', 'MGR': 7698, 'HIREDATE': '1981-02-20', 'SAL': 1600.0, 'COMM': 300.0, 'DEPTNO': 30}\n",
      "{'_id': ObjectId('6232c6a891d4755e775ae5d8'), 'EMPNO': 7521, 'ENAME': 'WARD', 'JOB': 'SALESMAN', 'MGR': 7698, 'HIREDATE': '1981-02-22', 'SAL': 1250.0, 'COMM': 500.0, 'DEPTNO': 30}\n",
      "{'_id': ObjectId('6232c6a891d4755e775ae5da'), 'EMPNO': 7654, 'ENAME': 'MARTIN', 'JOB': 'SALESMAN', 'MGR': 7698, 'HIREDATE': '1981-09-28', 'SAL': 1250.0, 'COMM': 1400.0, 'DEPTNO': 30}\n",
      "{'_id': ObjectId('6232c6a891d4755e775ae5df'), 'EMPNO': 7844, 'ENAME': 'TURNER', 'JOB': 'SALESMAN', 'MGR': 7698, 'HIREDATE': '1981-09-08', 'SAL': 1500.0, 'COMM': 0.0, 'DEPTNO': 30}\n",
      "{'_id': ObjectId('6232c6a891d4755e775ae5e0'), 'EMPNO': 7876, 'ENAME': 'ADAMS', 'JOB': 'CLERK', 'MGR': 7788, 'HIREDATE': '1987-07-13', 'SAL': 1100.0, 'DEPTNO': 20}\n",
      "{'_id': ObjectId('6232c6a891d4755e775ae5e1'), 'EMPNO': 7900, 'ENAME': 'JAMES', 'JOB': 'CLERK', 'MGR': 7698, 'HIREDATE': '1981-12-03', 'SAL': 950.0, 'DEPTNO': 30}\n",
      "{'_id': ObjectId('6232c6a891d4755e775ae5e3'), 'EMPNO': 7934, 'ENAME': 'MILLER', 'JOB': 'CLERK', 'MGR': 7782, 'HIREDATE': '1982-01-23', 'SAL': 1300.0, 'DEPTNO': 10}\n"
     ]
    }
   ],
   "source": [
    "result=db.emp.find(\n",
    "       { \n",
    "           \"SAL\" : {\n",
    "               \"$lt\": 2450 # 2450 보다 작은\n",
    "           }\n",
    "\n",
    "       }\n",
    ")\n",
    "for list in result:\n",
    "    print(list)\n",
    "    # select * from emp where sal<2000;"
   ]
  },
  {
   "cell_type": "code",
   "execution_count": 39,
   "metadata": {},
   "outputs": [
    {
     "name": "stdout",
     "output_type": "stream",
     "text": [
      "{'_id': ObjectId('6232c6a891d4755e775ae5d6'), 'EMPNO': 7369, 'ENAME': 'SMITH', 'JOB': 'CLERK', 'MGR': 7902, 'HIREDATE': '1980-12-17', 'SAL': 800.0, 'DEPTNO': 20}\n",
      "{'_id': ObjectId('6232c6a891d4755e775ae5d7'), 'EMPNO': 7499, 'ENAME': 'ALLEN', 'JOB': 'SALESMAN', 'MGR': 7698, 'HIREDATE': '1981-02-20', 'SAL': 1600.0, 'COMM': 300.0, 'DEPTNO': 30}\n",
      "{'_id': ObjectId('6232c6a891d4755e775ae5d8'), 'EMPNO': 7521, 'ENAME': 'WARD', 'JOB': 'SALESMAN', 'MGR': 7698, 'HIREDATE': '1981-02-22', 'SAL': 1250.0, 'COMM': 500.0, 'DEPTNO': 30}\n",
      "{'_id': ObjectId('6232c6a891d4755e775ae5da'), 'EMPNO': 7654, 'ENAME': 'MARTIN', 'JOB': 'SALESMAN', 'MGR': 7698, 'HIREDATE': '1981-09-28', 'SAL': 1250.0, 'COMM': 1400.0, 'DEPTNO': 30}\n",
      "{'_id': ObjectId('6232c6a891d4755e775ae5dc'), 'EMPNO': 7782, 'ENAME': 'CLARK', 'JOB': 'MANAGER', 'MGR': 7839, 'HIREDATE': '1981-06-09', 'SAL': 2450.0, 'DEPTNO': 10}\n",
      "{'_id': ObjectId('6232c6a891d4755e775ae5df'), 'EMPNO': 7844, 'ENAME': 'TURNER', 'JOB': 'SALESMAN', 'MGR': 7698, 'HIREDATE': '1981-09-08', 'SAL': 1500.0, 'COMM': 0.0, 'DEPTNO': 30}\n",
      "{'_id': ObjectId('6232c6a891d4755e775ae5e0'), 'EMPNO': 7876, 'ENAME': 'ADAMS', 'JOB': 'CLERK', 'MGR': 7788, 'HIREDATE': '1987-07-13', 'SAL': 1100.0, 'DEPTNO': 20}\n",
      "{'_id': ObjectId('6232c6a891d4755e775ae5e1'), 'EMPNO': 7900, 'ENAME': 'JAMES', 'JOB': 'CLERK', 'MGR': 7698, 'HIREDATE': '1981-12-03', 'SAL': 950.0, 'DEPTNO': 30}\n",
      "{'_id': ObjectId('6232c6a891d4755e775ae5e3'), 'EMPNO': 7934, 'ENAME': 'MILLER', 'JOB': 'CLERK', 'MGR': 7782, 'HIREDATE': '1982-01-23', 'SAL': 1300.0, 'DEPTNO': 10}\n"
     ]
    }
   ],
   "source": [
    "result=db.emp.find(\n",
    "       { \n",
    "           \"SAL\" : {\n",
    "               \"$lte\": 2450 # 2450 보다 같고 작은\n",
    "           }\n",
    "\n",
    "       }\n",
    ")\n",
    "for list in result:\n",
    "    print(list)\n",
    "    # select * from emp where sal<=2000;"
   ]
  },
  {
   "cell_type": "code",
   "execution_count": 41,
   "metadata": {},
   "outputs": [
    {
     "name": "stdout",
     "output_type": "stream",
     "text": [
      "{'_id': ObjectId('6232b9a991d4755e775ae5c8'), 'EMPNO': '7369', 'ENAME': 'SMITH', 'JOB': 'CLERK', 'MGR': '7902', 'HIREDATE': '1980-12-17', 'SAL': '800.00', 'DEPTNO': '20'}\n",
      "{'_id': ObjectId('6232b9a991d4755e775ae5c9'), 'EMPNO': '7499', 'ENAME': 'ALLEN', 'JOB': 'SALESMAN', 'MGR': '7698', 'HIREDATE': '1981-02-20', 'SAL': '1600.00', 'COMM': '300.00', 'DEPTNO': '30'}\n",
      "{'_id': ObjectId('6232c6a891d4755e775ae5d6'), 'EMPNO': 7369, 'ENAME': 'SMITH', 'JOB': 'CLERK', 'MGR': 7902, 'HIREDATE': '1980-12-17', 'SAL': 800.0, 'DEPTNO': 20}\n",
      "{'_id': ObjectId('6232c6a891d4755e775ae5d7'), 'EMPNO': 7499, 'ENAME': 'ALLEN', 'JOB': 'SALESMAN', 'MGR': 7698, 'HIREDATE': '1981-02-20', 'SAL': 1600.0, 'COMM': 300.0, 'DEPTNO': 30}\n"
     ]
    }
   ],
   "source": [
    "# select * from emp where ENAME = SMITH OR ENAME = ALLEN\n",
    "result=db.emp.find({\n",
    "    \"$or\" : [\n",
    "        {\"ENAME\" : \"SMITH\"},\n",
    "        {\"ENAME\" : \"ALLEN\"}\n",
    "    ]}\n",
    ")\n",
    "for list in result: \n",
    "    print(list)"
   ]
  },
  {
   "cell_type": "code",
   "execution_count": 42,
   "metadata": {},
   "outputs": [
    {
     "name": "stdout",
     "output_type": "stream",
     "text": [
      "{'_id': ObjectId('6232b9a991d4755e775ae5c8'), 'EMPNO': '7369', 'ENAME': 'SMITH', 'JOB': 'CLERK', 'MGR': '7902', 'HIREDATE': '1980-12-17', 'SAL': '800.00', 'DEPTNO': '20'}\n",
      "{'_id': ObjectId('6232c6a891d4755e775ae5d6'), 'EMPNO': 7369, 'ENAME': 'SMITH', 'JOB': 'CLERK', 'MGR': 7902, 'HIREDATE': '1980-12-17', 'SAL': 800.0, 'DEPTNO': 20}\n"
     ]
    }
   ],
   "source": [
    "# seect * from emp where ENAME = SMITH AND JOB = CLERK\n",
    "result=db.emp.find({\n",
    "    \"ENAME\":\"SMITH\",\n",
    "    \"JOB\": \"CLERK\"\n",
    "        \n",
    "    }\n",
    ")\n",
    "for list in result: \n",
    "    print(list)"
   ]
  },
  {
   "cell_type": "code",
   "execution_count": 51,
   "metadata": {},
   "outputs": [
    {
     "data": {
      "text/html": [
       "<div>\n",
       "<style scoped>\n",
       "    .dataframe tbody tr th:only-of-type {\n",
       "        vertical-align: middle;\n",
       "    }\n",
       "\n",
       "    .dataframe tbody tr th {\n",
       "        vertical-align: top;\n",
       "    }\n",
       "\n",
       "    .dataframe thead th {\n",
       "        text-align: right;\n",
       "    }\n",
       "</style>\n",
       "<table border=\"1\" class=\"dataframe\">\n",
       "  <thead>\n",
       "    <tr style=\"text-align: right;\">\n",
       "      <th></th>\n",
       "      <th>EMPNO</th>\n",
       "      <th>ENAME</th>\n",
       "      <th>JOB</th>\n",
       "      <th>MGR</th>\n",
       "      <th>HIREDATE</th>\n",
       "      <th>SAL</th>\n",
       "      <th>DEPTNO</th>\n",
       "    </tr>\n",
       "  </thead>\n",
       "  <tbody>\n",
       "    <tr>\n",
       "      <th>0</th>\n",
       "      <td>7566</td>\n",
       "      <td>JONES</td>\n",
       "      <td>MANAGER</td>\n",
       "      <td>7839</td>\n",
       "      <td>1981-04-02</td>\n",
       "      <td>2975.0</td>\n",
       "      <td>20</td>\n",
       "    </tr>\n",
       "    <tr>\n",
       "      <th>1</th>\n",
       "      <td>7698</td>\n",
       "      <td>BLAKE</td>\n",
       "      <td>MANAGER</td>\n",
       "      <td>7839</td>\n",
       "      <td>1981-05-01</td>\n",
       "      <td>2850.0</td>\n",
       "      <td>30</td>\n",
       "    </tr>\n",
       "    <tr>\n",
       "      <th>2</th>\n",
       "      <td>7782</td>\n",
       "      <td>CLARK</td>\n",
       "      <td>MANAGER</td>\n",
       "      <td>7839</td>\n",
       "      <td>1981-06-09</td>\n",
       "      <td>2450.0</td>\n",
       "      <td>10</td>\n",
       "    </tr>\n",
       "    <tr>\n",
       "      <th>3</th>\n",
       "      <td>7788</td>\n",
       "      <td>SCOTT</td>\n",
       "      <td>ANALYST</td>\n",
       "      <td>7566</td>\n",
       "      <td>1987-06-28</td>\n",
       "      <td>3000.0</td>\n",
       "      <td>20</td>\n",
       "    </tr>\n",
       "    <tr>\n",
       "      <th>4</th>\n",
       "      <td>7902</td>\n",
       "      <td>FORD</td>\n",
       "      <td>ANALYST</td>\n",
       "      <td>7566</td>\n",
       "      <td>1981-12-03</td>\n",
       "      <td>3000.0</td>\n",
       "      <td>20</td>\n",
       "    </tr>\n",
       "  </tbody>\n",
       "</table>\n",
       "</div>"
      ],
      "text/plain": [
       "   EMPNO  ENAME      JOB   MGR    HIREDATE     SAL  DEPTNO\n",
       "0   7566  JONES  MANAGER  7839  1981-04-02  2975.0      20\n",
       "1   7698  BLAKE  MANAGER  7839  1981-05-01  2850.0      30\n",
       "2   7782  CLARK  MANAGER  7839  1981-06-09  2450.0      10\n",
       "3   7788  SCOTT  ANALYST  7566  1987-06-28  3000.0      20\n",
       "4   7902   FORD  ANALYST  7566  1981-12-03  3000.0      20"
      ]
     },
     "execution_count": 51,
     "metadata": {},
     "output_type": "execute_result"
    }
   ],
   "source": [
    "# SELECT * FROM emp WHERE SAL >=2000 AND SAL < 4000\n",
    "\n",
    "result = db.emp.find(\n",
    "    {\"SAL\":{\"$gte\": 2000,\"$lt\": 4000}},\n",
    "     {\n",
    "         \"_id\": 0 \n",
    "      })\n",
    "pd.DataFrame(result)"
   ]
  },
  {
   "cell_type": "code",
   "execution_count": 55,
   "metadata": {},
   "outputs": [
    {
     "data": {
      "text/html": [
       "<div>\n",
       "<style scoped>\n",
       "    .dataframe tbody tr th:only-of-type {\n",
       "        vertical-align: middle;\n",
       "    }\n",
       "\n",
       "    .dataframe tbody tr th {\n",
       "        vertical-align: top;\n",
       "    }\n",
       "\n",
       "    .dataframe thead th {\n",
       "        text-align: right;\n",
       "    }\n",
       "</style>\n",
       "<table border=\"1\" class=\"dataframe\">\n",
       "  <thead>\n",
       "    <tr style=\"text-align: right;\">\n",
       "      <th></th>\n",
       "      <th>_id</th>\n",
       "      <th>EMPNO</th>\n",
       "      <th>ENAME</th>\n",
       "      <th>JOB</th>\n",
       "      <th>MGR</th>\n",
       "      <th>HIREDATE</th>\n",
       "      <th>SAL</th>\n",
       "      <th>DEPTNO</th>\n",
       "    </tr>\n",
       "  </thead>\n",
       "  <tbody>\n",
       "    <tr>\n",
       "      <th>0</th>\n",
       "      <td>6232b9a991d4755e775ae5c8</td>\n",
       "      <td>7369</td>\n",
       "      <td>SMITH</td>\n",
       "      <td>CLERK</td>\n",
       "      <td>7902</td>\n",
       "      <td>1980-12-17</td>\n",
       "      <td>800.00</td>\n",
       "      <td>20</td>\n",
       "    </tr>\n",
       "    <tr>\n",
       "      <th>1</th>\n",
       "      <td>6232b9a991d4755e775ae5cf</td>\n",
       "      <td>7788</td>\n",
       "      <td>SCOTT</td>\n",
       "      <td>ANALYST</td>\n",
       "      <td>7566</td>\n",
       "      <td>1987-06-28</td>\n",
       "      <td>3000.00</td>\n",
       "      <td>20</td>\n",
       "    </tr>\n",
       "    <tr>\n",
       "      <th>2</th>\n",
       "      <td>6232c6a891d4755e775ae5d6</td>\n",
       "      <td>7369</td>\n",
       "      <td>SMITH</td>\n",
       "      <td>CLERK</td>\n",
       "      <td>7902</td>\n",
       "      <td>1980-12-17</td>\n",
       "      <td>800.0</td>\n",
       "      <td>20</td>\n",
       "    </tr>\n",
       "    <tr>\n",
       "      <th>3</th>\n",
       "      <td>6232c6a891d4755e775ae5dd</td>\n",
       "      <td>7788</td>\n",
       "      <td>SCOTT</td>\n",
       "      <td>ANALYST</td>\n",
       "      <td>7566</td>\n",
       "      <td>1987-06-28</td>\n",
       "      <td>3000.0</td>\n",
       "      <td>20</td>\n",
       "    </tr>\n",
       "  </tbody>\n",
       "</table>\n",
       "</div>"
      ],
      "text/plain": [
       "                        _id EMPNO  ENAME      JOB   MGR    HIREDATE      SAL  \\\n",
       "0  6232b9a991d4755e775ae5c8  7369  SMITH    CLERK  7902  1980-12-17   800.00   \n",
       "1  6232b9a991d4755e775ae5cf  7788  SCOTT  ANALYST  7566  1987-06-28  3000.00   \n",
       "2  6232c6a891d4755e775ae5d6  7369  SMITH    CLERK  7902  1980-12-17    800.0   \n",
       "3  6232c6a891d4755e775ae5dd  7788  SCOTT  ANALYST  7566  1987-06-28   3000.0   \n",
       "\n",
       "  DEPTNO  \n",
       "0     20  \n",
       "1     20  \n",
       "2     20  \n",
       "3     20  "
      ]
     },
     "execution_count": 55,
     "metadata": {},
     "output_type": "execute_result"
    }
   ],
   "source": [
    "# SELECT * FROM emp where ENAME LIKE = \"%S\"\n",
    "result = db.emp.find(\n",
    "    {\n",
    "        \"ENAME\" : {\n",
    "            \"$regex\" : \"^S\"\n",
    "        }\n",
    "            \n",
    "    }\n",
    ")\n",
    "pd.DataFrame(result)"
   ]
  },
  {
   "cell_type": "code",
   "execution_count": 56,
   "metadata": {},
   "outputs": [
    {
     "data": {
      "text/html": [
       "<div>\n",
       "<style scoped>\n",
       "    .dataframe tbody tr th:only-of-type {\n",
       "        vertical-align: middle;\n",
       "    }\n",
       "\n",
       "    .dataframe tbody tr th {\n",
       "        vertical-align: top;\n",
       "    }\n",
       "\n",
       "    .dataframe thead th {\n",
       "        text-align: right;\n",
       "    }\n",
       "</style>\n",
       "<table border=\"1\" class=\"dataframe\">\n",
       "  <thead>\n",
       "    <tr style=\"text-align: right;\">\n",
       "      <th></th>\n",
       "      <th>_id</th>\n",
       "      <th>EMPNO</th>\n",
       "      <th>ENAME</th>\n",
       "      <th>JOB</th>\n",
       "      <th>MGR</th>\n",
       "      <th>HIREDATE</th>\n",
       "      <th>SAL</th>\n",
       "      <th>DEPTNO</th>\n",
       "    </tr>\n",
       "  </thead>\n",
       "  <tbody>\n",
       "    <tr>\n",
       "      <th>0</th>\n",
       "      <td>6232b9a991d4755e775ae5c8</td>\n",
       "      <td>7369</td>\n",
       "      <td>SMITH</td>\n",
       "      <td>CLERK</td>\n",
       "      <td>7902</td>\n",
       "      <td>1980-12-17</td>\n",
       "      <td>800.00</td>\n",
       "      <td>20</td>\n",
       "    </tr>\n",
       "    <tr>\n",
       "      <th>1</th>\n",
       "      <td>6232b9a991d4755e775ae5cb</td>\n",
       "      <td>7566</td>\n",
       "      <td>JONES</td>\n",
       "      <td>MANAGER</td>\n",
       "      <td>7839</td>\n",
       "      <td>1981-04-02</td>\n",
       "      <td>2975.00</td>\n",
       "      <td>20</td>\n",
       "    </tr>\n",
       "    <tr>\n",
       "      <th>2</th>\n",
       "      <td>6232b9a991d4755e775ae5cf</td>\n",
       "      <td>7788</td>\n",
       "      <td>SCOTT</td>\n",
       "      <td>ANALYST</td>\n",
       "      <td>7566</td>\n",
       "      <td>1987-06-28</td>\n",
       "      <td>3000.00</td>\n",
       "      <td>20</td>\n",
       "    </tr>\n",
       "    <tr>\n",
       "      <th>3</th>\n",
       "      <td>6232b9a991d4755e775ae5d2</td>\n",
       "      <td>7876</td>\n",
       "      <td>ADAMS</td>\n",
       "      <td>CLERK</td>\n",
       "      <td>7788</td>\n",
       "      <td>1987-07-13</td>\n",
       "      <td>1100.00</td>\n",
       "      <td>20</td>\n",
       "    </tr>\n",
       "    <tr>\n",
       "      <th>4</th>\n",
       "      <td>6232b9a991d4755e775ae5d3</td>\n",
       "      <td>7900</td>\n",
       "      <td>JAMES</td>\n",
       "      <td>CLERK</td>\n",
       "      <td>7698</td>\n",
       "      <td>1981-12-03</td>\n",
       "      <td>950.00</td>\n",
       "      <td>30</td>\n",
       "    </tr>\n",
       "    <tr>\n",
       "      <th>5</th>\n",
       "      <td>6232c6a891d4755e775ae5d6</td>\n",
       "      <td>7369</td>\n",
       "      <td>SMITH</td>\n",
       "      <td>CLERK</td>\n",
       "      <td>7902</td>\n",
       "      <td>1980-12-17</td>\n",
       "      <td>800.0</td>\n",
       "      <td>20</td>\n",
       "    </tr>\n",
       "    <tr>\n",
       "      <th>6</th>\n",
       "      <td>6232c6a891d4755e775ae5d9</td>\n",
       "      <td>7566</td>\n",
       "      <td>JONES</td>\n",
       "      <td>MANAGER</td>\n",
       "      <td>7839</td>\n",
       "      <td>1981-04-02</td>\n",
       "      <td>2975.0</td>\n",
       "      <td>20</td>\n",
       "    </tr>\n",
       "    <tr>\n",
       "      <th>7</th>\n",
       "      <td>6232c6a891d4755e775ae5dd</td>\n",
       "      <td>7788</td>\n",
       "      <td>SCOTT</td>\n",
       "      <td>ANALYST</td>\n",
       "      <td>7566</td>\n",
       "      <td>1987-06-28</td>\n",
       "      <td>3000.0</td>\n",
       "      <td>20</td>\n",
       "    </tr>\n",
       "    <tr>\n",
       "      <th>8</th>\n",
       "      <td>6232c6a891d4755e775ae5e0</td>\n",
       "      <td>7876</td>\n",
       "      <td>ADAMS</td>\n",
       "      <td>CLERK</td>\n",
       "      <td>7788</td>\n",
       "      <td>1987-07-13</td>\n",
       "      <td>1100.0</td>\n",
       "      <td>20</td>\n",
       "    </tr>\n",
       "    <tr>\n",
       "      <th>9</th>\n",
       "      <td>6232c6a891d4755e775ae5e1</td>\n",
       "      <td>7900</td>\n",
       "      <td>JAMES</td>\n",
       "      <td>CLERK</td>\n",
       "      <td>7698</td>\n",
       "      <td>1981-12-03</td>\n",
       "      <td>950.0</td>\n",
       "      <td>30</td>\n",
       "    </tr>\n",
       "  </tbody>\n",
       "</table>\n",
       "</div>"
      ],
      "text/plain": [
       "                        _id EMPNO  ENAME      JOB   MGR    HIREDATE      SAL  \\\n",
       "0  6232b9a991d4755e775ae5c8  7369  SMITH    CLERK  7902  1980-12-17   800.00   \n",
       "1  6232b9a991d4755e775ae5cb  7566  JONES  MANAGER  7839  1981-04-02  2975.00   \n",
       "2  6232b9a991d4755e775ae5cf  7788  SCOTT  ANALYST  7566  1987-06-28  3000.00   \n",
       "3  6232b9a991d4755e775ae5d2  7876  ADAMS    CLERK  7788  1987-07-13  1100.00   \n",
       "4  6232b9a991d4755e775ae5d3  7900  JAMES    CLERK  7698  1981-12-03   950.00   \n",
       "5  6232c6a891d4755e775ae5d6  7369  SMITH    CLERK  7902  1980-12-17    800.0   \n",
       "6  6232c6a891d4755e775ae5d9  7566  JONES  MANAGER  7839  1981-04-02   2975.0   \n",
       "7  6232c6a891d4755e775ae5dd  7788  SCOTT  ANALYST  7566  1987-06-28   3000.0   \n",
       "8  6232c6a891d4755e775ae5e0  7876  ADAMS    CLERK  7788  1987-07-13   1100.0   \n",
       "9  6232c6a891d4755e775ae5e1  7900  JAMES    CLERK  7698  1981-12-03    950.0   \n",
       "\n",
       "  DEPTNO  \n",
       "0     20  \n",
       "1     20  \n",
       "2     20  \n",
       "3     20  \n",
       "4     30  \n",
       "5     20  \n",
       "6     20  \n",
       "7     20  \n",
       "8     20  \n",
       "9     30  "
      ]
     },
     "execution_count": 56,
     "metadata": {},
     "output_type": "execute_result"
    }
   ],
   "source": [
    "# S포함하는 것들 출력\n",
    "result = db.emp.find(\n",
    "    {\n",
    "        \"ENAME\" : {\n",
    "            \"$regex\" : \"S\"\n",
    "    }}\n",
    ")\n",
    "pd.DataFrame(result)"
   ]
  },
  {
   "cell_type": "code",
   "execution_count": 68,
   "metadata": {},
   "outputs": [
    {
     "data": {
      "text/html": [
       "<div>\n",
       "<style scoped>\n",
       "    .dataframe tbody tr th:only-of-type {\n",
       "        vertical-align: middle;\n",
       "    }\n",
       "\n",
       "    .dataframe tbody tr th {\n",
       "        vertical-align: top;\n",
       "    }\n",
       "\n",
       "    .dataframe thead th {\n",
       "        text-align: right;\n",
       "    }\n",
       "</style>\n",
       "<table border=\"1\" class=\"dataframe\">\n",
       "  <thead>\n",
       "    <tr style=\"text-align: right;\">\n",
       "      <th></th>\n",
       "      <th>ENAME</th>\n",
       "      <th>JOB</th>\n",
       "      <th>SAL</th>\n",
       "      <th>DEPTNO</th>\n",
       "    </tr>\n",
       "  </thead>\n",
       "  <tbody>\n",
       "    <tr>\n",
       "      <th>0</th>\n",
       "      <td>ALLEN</td>\n",
       "      <td>SALESMAN</td>\n",
       "      <td>1600.0</td>\n",
       "      <td>30</td>\n",
       "    </tr>\n",
       "    <tr>\n",
       "      <th>1</th>\n",
       "      <td>TURNER</td>\n",
       "      <td>SALESMAN</td>\n",
       "      <td>1500.0</td>\n",
       "      <td>30</td>\n",
       "    </tr>\n",
       "  </tbody>\n",
       "</table>\n",
       "</div>"
      ],
      "text/plain": [
       "    ENAME       JOB     SAL  DEPTNO\n",
       "0   ALLEN  SALESMAN  1600.0      30\n",
       "1  TURNER  SALESMAN  1500.0      30"
      ]
     },
     "execution_count": 68,
     "metadata": {},
     "output_type": "execute_result"
    }
   ],
   "source": [
    "# SELECT ENAME, JOB, SAL, DEPTNO FROM emp \n",
    "# WHERE SAL > 1500 and SAL <=3000 AND JOB = SALESMAN\n",
    "# ORDER BY ENAME\n",
    "result = db.emp.find(\n",
    "    {\n",
    "    \"$and\" : [\n",
    "    {\"SAL\":{\"$gt\": 1250}},{\"SAL\":{\"$lte\": 3000}},{\"JOB\" : \"SALESMAN\"}]},{ \"ENAME\":1,\n",
    "         \"JOB\":1,\n",
    "         \"SAL\":1,\n",
    "         \"DEPTNO\":1,\n",
    "         \"_id\":0}\n",
    ").sort(\"ENAME\", 1) # 1일경우 오름차순 -1일경우 내림차순이다.\n",
    "pd.DataFrame(result)"
   ]
  },
  {
   "cell_type": "code",
   "execution_count": 63,
   "metadata": {},
   "outputs": [
    {
     "data": {
      "text/html": [
       "<div>\n",
       "<style scoped>\n",
       "    .dataframe tbody tr th:only-of-type {\n",
       "        vertical-align: middle;\n",
       "    }\n",
       "\n",
       "    .dataframe tbody tr th {\n",
       "        vertical-align: top;\n",
       "    }\n",
       "\n",
       "    .dataframe thead th {\n",
       "        text-align: right;\n",
       "    }\n",
       "</style>\n",
       "<table border=\"1\" class=\"dataframe\">\n",
       "  <thead>\n",
       "    <tr style=\"text-align: right;\">\n",
       "      <th></th>\n",
       "      <th>ENAME</th>\n",
       "      <th>JOB</th>\n",
       "      <th>SAL</th>\n",
       "      <th>DEPTNO</th>\n",
       "    </tr>\n",
       "  </thead>\n",
       "  <tbody>\n",
       "    <tr>\n",
       "      <th>0</th>\n",
       "      <td>ALLEN</td>\n",
       "      <td>SALESMAN</td>\n",
       "      <td>1600.0</td>\n",
       "      <td>30</td>\n",
       "    </tr>\n",
       "    <tr>\n",
       "      <th>1</th>\n",
       "      <td>TURNER</td>\n",
       "      <td>SALESMAN</td>\n",
       "      <td>1500.0</td>\n",
       "      <td>30</td>\n",
       "    </tr>\n",
       "  </tbody>\n",
       "</table>\n",
       "</div>"
      ],
      "text/plain": [
       "    ENAME       JOB     SAL  DEPTNO\n",
       "0   ALLEN  SALESMAN  1600.0      30\n",
       "1  TURNER  SALESMAN  1500.0      30"
      ]
     },
     "execution_count": 63,
     "metadata": {},
     "output_type": "execute_result"
    }
   ],
   "source": [
    "result = db.emp.find(\n",
    "    {\n",
    "        \"SAL\":{\"$gt\": 1250,\"$lte\": 3000},\n",
    "        \"JOB\" : \"SALESMAN\"\n",
    "        },\n",
    "     {\n",
    "         \"ENAME\":1,\n",
    "         \"JOB\":1,\n",
    "         \"SAL\":1,\n",
    "         \"DEPTNO\":1,\n",
    "         \"_id\":0 \n",
    "      }\n",
    ").sort(\"ENAME\")\n",
    "\n",
    "\n",
    "pd.DataFrame(result)"
   ]
  },
  {
   "cell_type": "code",
   "execution_count": null,
   "metadata": {},
   "outputs": [],
   "source": []
  }
 ],
 "metadata": {
  "interpreter": {
   "hash": "f4ba335b1acc55db6b97d63129af6fbe6175843e0be64b2659003ca573354abf"
  },
  "kernelspec": {
   "display_name": "Python 3.10.1 64-bit",
   "language": "python",
   "name": "python3"
  },
  "language_info": {
   "codemirror_mode": {
    "name": "ipython",
    "version": 3
   },
   "file_extension": ".py",
   "mimetype": "text/x-python",
   "name": "python",
   "nbconvert_exporter": "python",
   "pygments_lexer": "ipython3",
   "version": "3.9.7"
  },
  "orig_nbformat": 4
 },
 "nbformat": 4,
 "nbformat_minor": 2
}
