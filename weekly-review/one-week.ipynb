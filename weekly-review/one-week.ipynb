{
 "cells": [
  {
   "cell_type": "code",
   "execution_count": 2,
   "metadata": {},
   "outputs": [
    {
     "name": "stdout",
     "output_type": "stream",
     "text": [
      "1234\n"
     ]
    }
   ],
   "source": [
    "input_one= \"Hello World\"\n",
    "input_one=1234\n",
    "print(input_one)"
   ]
  },
  {
   "cell_type": "code",
   "execution_count": 4,
   "metadata": {},
   "outputs": [
    {
     "name": "stdout",
     "output_type": "stream",
     "text": [
      "(1, 2, 3, 4, 5)\n",
      "3\n"
     ]
    }
   ],
   "source": [
    "# 튜플 소괄호로 묶는다.\n",
    "# 가장 기본적인 리스트의 형태\n",
    "# 데이터의 수정이 불가\n",
    "\n",
    "tuple_num=(1,2,3,4,5)\n",
    "print(tuple_num)\n",
    "print(tuple_num[2])"
   ]
  },
  {
   "cell_type": "code",
   "execution_count": 6,
   "metadata": {},
   "outputs": [
    {
     "name": "stdout",
     "output_type": "stream",
     "text": [
      "((1, 2, 3), (4, 5, 6))\n",
      "5\n"
     ]
    }
   ],
   "source": [
    "tuple_num_2=((1,2,3), (4,5,6))\n",
    "print(tuple_num_2)\n",
    "# 5라는 숫자만 출력\n",
    "print(tuple_num_2[1][1])\n",
    "\n",
    "print(tuple_num_2[1]) # 4, 5, 6 출력"
   ]
  },
  {
   "cell_type": "code",
   "execution_count": 7,
   "metadata": {},
   "outputs": [
    {
     "name": "stdout",
     "output_type": "stream",
     "text": [
      "[1, 2, 3, 4, 5]\n",
      "3\n"
     ]
    }
   ],
   "source": [
    "# 리스트는 대괄호로 묶어 준다.\n",
    "# 리스트와 튜플의 차이는-> 데이터의 수정이 가능 유무\n",
    "list_num=[1,2,3,4,5]\n",
    "print(list_num)\n",
    "\n",
    "print(list_num[2])\n",
    "\n"
   ]
  },
  {
   "cell_type": "code",
   "execution_count": 8,
   "metadata": {},
   "outputs": [
    {
     "name": "stdout",
     "output_type": "stream",
     "text": [
      "이정환\n"
     ]
    }
   ],
   "source": [
    "# 딕셔너리는 중괄호로 묶어준다.\n",
    "# {'key1': 'value', 'key2':'value'}\n",
    "\"\"\"sumary_line\"\"\"\n",
    "\n",
    "dict_num={\"이름\": \"이정환\", \"전화번호\": \"010-3230-0185\", \"성별\":\"남\"}\n",
    "print(dict_num[\"이름\"])"
   ]
  },
  {
   "cell_type": "code",
   "execution_count": 9,
   "metadata": {},
   "outputs": [
    {
     "name": "stdout",
     "output_type": "stream",
     "text": [
      "a는 8보다 큽니다.\n"
     ]
    }
   ],
   "source": [
    "# 조건문 if 조건식:\n",
    "a=10\n",
    "if a>8:\n",
    "    print(\"a는 8보다 큽니다.\") # 조건식이 참일 경우 실행됨\n",
    "else:\n",
    "    print(\"a는 8보다 작습니다.\") # 조건식이 거짓일 경우 실행됨"
   ]
  },
  {
   "cell_type": "code",
   "execution_count": 10,
   "metadata": {},
   "outputs": [
    {
     "name": "stdout",
     "output_type": "stream",
     "text": [
      "결측치가 존재합니다.\n"
     ]
    }
   ],
   "source": [
    "b=\"\"\n",
    "if b:\n",
    "    print(\"결측치가 없습니다.\")\n",
    "else:\n",
    "    print(\"결측치가 존재합니다.\")\n"
   ]
  },
  {
   "cell_type": "code",
   "execution_count": 11,
   "metadata": {},
   "outputs": [
    {
     "name": "stdout",
     "output_type": "stream",
     "text": [
      "1 번째 반복\n",
      "2 번째 반복\n",
      "3 번째 반복\n",
      "4 번째 반복\n",
      "5 번째 반복\n",
      "6 번째 반복\n",
      "7 번째 반복\n",
      "8 번째 반복\n",
      "9 번째 반복\n"
     ]
    }
   ],
   "source": [
    "# 반복문( for문, while문\n",
    "for i in range(1,10,1):\n",
    "    print(\"%d 번째 반복\" % i) #%d -> 정수, %s -> 문자열형, %f -> 실수형"
   ]
  },
  {
   "cell_type": "code",
   "execution_count": 16,
   "metadata": {},
   "outputs": [
    {
     "name": "stdout",
     "output_type": "stream",
     "text": [
      "{'name': 'test1', 'password': '1234'}\n",
      "{'name': 'test2', 'password': '1234'}\n",
      "{'name': 'test3', 'password': '1234'}\n"
     ]
    }
   ],
   "source": [
    "dict_list = [{\"name\" : \"test1\", \"password\":\"1234\"},\n",
    "            {\"name\" : \"test2\", \"password\":\"1234\"},{\"name\" : \"test3\", \"password\":\"1234\"}]\n",
    "for list in dict_list:\n",
    "    print(list)\n",
    "    "
   ]
  },
  {
   "cell_type": "code",
   "execution_count": 23,
   "metadata": {},
   "outputs": [
    {
     "name": "stdout",
     "output_type": "stream",
     "text": [
      "[{'name': 'test1', 'password': '1234'}, {'name': 'test2', 'password': '1234'}, {'name': 'test3', 'password': '1234'}]\n",
      "[{'name': 'test1', 'password': '1234'}, {'name': 'test2', 'password': '1234'}, {'name': 'test3', 'password': '1234'}]\n",
      "[{'name': 'test1', 'password': '1234'}, {'name': 'test2', 'password': '1234'}, {'name': 'test3', 'password': '1234'}]\n"
     ]
    }
   ],
   "source": [
    "for i in range(len(dict_list)):\n",
    "    print(dict_list)"
   ]
  },
  {
   "cell_type": "code",
   "execution_count": 25,
   "metadata": {},
   "outputs": [
    {
     "name": "stdout",
     "output_type": "stream",
     "text": [
      "{'name': 'test1', 'password': '1234'}\n",
      "{'name': 'test2', 'password': '1234'}\n",
      "{'name': 'test3', 'password': '1234'}\n"
     ]
    }
   ],
   "source": [
    "dict_list = [{\"name\" : \"test1\", \"password\":\"1234\"},\n",
    "            {\"name\" : \"test2\", \"password\":\"1234\"},{\"name\" : \"test3\", \"password\":\"1234\"}]\n",
    "i=0\n",
    "while i<len(dict_list):\n",
    "    print(dict_list[i])\n",
    "    i+=1\n",
    "\n"
   ]
  },
  {
   "cell_type": "code",
   "execution_count": 40,
   "metadata": {},
   "outputs": [
    {
     "name": "stdout",
     "output_type": "stream",
     "text": [
      "test1\n",
      "test2\n",
      "test3\n"
     ]
    }
   ],
   "source": [
    "# 함수 def 함수명(매개변수 매개변수):\n",
    "# 함수를 호출-> 함수명(인자, 인자)\n",
    "# 함수를 만들어 봅시다. -> 함수를 호출 ->  dict_list print-> \n",
    "# 인자값에 키값을 넣어주고 -> 그 키 값에 해당하는 값만 출력 되도록\n",
    "\n",
    "def func_1(input_key):\n",
    "    for list in dict_list:\n",
    "        print(list[input_key])\n",
    "func_1(\"name\") # -> def func_1(\"name\") -> print(list[\"name\"])\n"
   ]
  },
  {
   "cell_type": "code",
   "execution_count": 43,
   "metadata": {},
   "outputs": [
    {
     "name": "stdout",
     "output_type": "stream",
     "text": [
      "test1\n",
      "test2\n",
      "test3\n"
     ]
    }
   ],
   "source": [
    "def func_1(input_key):\n",
    "    for i in range(0, len(dict_list), 1):\n",
    "        print(dict_list[i][input_key])\n",
    "func_1(\"name\") # -> def func_1(\"name\") -> print(list[\"name\"])\n"
   ]
  },
  {
   "cell_type": "code",
   "execution_count": 53,
   "metadata": {},
   "outputs": [
    {
     "name": "stdout",
     "output_type": "stream",
     "text": [
      "test1\n",
      "test2\n",
      "test3\n"
     ]
    }
   ],
   "source": [
    "\n",
    "# while 문으로 함수 만들기\n",
    "def func_2(list,input_key):\n",
    "    num=0\n",
    "    while num <len(list):\n",
    "        print(dict_list[num][input_key])\n",
    "        num+=1\n",
    "func_2(dict_list,\"name\")\n",
    "        "
   ]
  },
  {
   "cell_type": "code",
   "execution_count": 55,
   "metadata": {},
   "outputs": [
    {
     "name": "stdout",
     "output_type": "stream",
     "text": [
      "Hello\n"
     ]
    }
   ],
   "source": [
    "def func_3():\n",
    "    return \"Hello\"\n",
    "print(func_3())"
   ]
  },
  {
   "cell_type": "code",
   "execution_count": 56,
   "metadata": {},
   "outputs": [
    {
     "name": "stdout",
     "output_type": "stream",
     "text": [
      "11\n"
     ]
    }
   ],
   "source": [
    "def func_4(input_a, input_b):\n",
    "    result=input_a+input_b\n",
    "    return result\n",
    "print(func_4(5,6))"
   ]
  },
  {
   "cell_type": "code",
   "execution_count": 58,
   "metadata": {},
   "outputs": [
    {
     "name": "stdout",
     "output_type": "stream",
     "text": [
      "10\n"
     ]
    }
   ],
   "source": [
    "# 두개의 함수 만들어 주기\n",
    "def func_5():\n",
    "    a=10\n",
    "    def func_6():\n",
    "        print(a)\n",
    "    func_6()\n",
    "func_5()\n"
   ]
  },
  {
   "cell_type": "code",
   "execution_count": 93,
   "metadata": {},
   "outputs": [
    {
     "name": "stdout",
     "output_type": "stream",
     "text": [
      "3\n",
      "None\n"
     ]
    }
   ],
   "source": [
    "# 함수를 생성-> 매개변수 3개 -> def 함수(a,b,c): 함수 안에 함수를 하나 더 생성-> \n",
    "# 함수 1 a+b 함수 2-> a+b더해준 값에 c를 빼주는 함수 만들기\n",
    "# 들여쓰기 할 경우 지역변수가 한번 더 사용 될 수 있다.\n",
    "def func_7(a,b,c):\n",
    "    sum=a+b\n",
    "    def func_8():\n",
    "      \n",
    "      sum2=sum-c\n",
    "      return sum2\n",
    "    print(func_8())\n",
    "    \n",
    "print(func_7(1,5,3))"
   ]
  },
  {
   "cell_type": "code",
   "execution_count": 97,
   "metadata": {},
   "outputs": [
    {
     "name": "stdout",
     "output_type": "stream",
     "text": [
      "0\n"
     ]
    }
   ],
   "source": [
    " # 함수에서 다른 함수 호출하기\n",
    " \n",
    "def func_9(input_a, input_b):\n",
    "    sum = input_a + input_b\n",
    "    return sum\n",
    "def func_10(input_c, input_d, input_e):\n",
    "    sum_2 = func_9(input_c, input_d)\n",
    "    result= sum_2 - input_e\n",
    "    return result\n",
    "print(func_10(1,2,3))    "
   ]
  },
  {
   "cell_type": "code",
   "execution_count": 116,
   "metadata": {},
   "outputs": [
    {
     "name": "stdout",
     "output_type": "stream",
     "text": [
      "3\n"
     ]
    }
   ],
   "source": [
    "# 함수 3개 생성\n",
    "# 함수1 -> 두 수의 합을 출력\n",
    "# 함수2 -> 두 수의 차를 출력\n",
    "# 함수3 -> def 함수3(a,b,c): c의 값이 \"S\"면 함수 (a,b) 값 출력\n",
    "# c의 값이 \"D\"이면 함수 2의 (a,b) 호출\n",
    "def func_11(a,b):\n",
    "    result_1=a+b\n",
    "    return result_1\n",
    "def func_12(c,d):\n",
    "    result_2=c-d\n",
    "    return result_2\n",
    "def func_13(e,f,g):\n",
    "    if g == \"S\":\n",
    "        result_3=func_11(e,f)\n",
    "        return result_3\n",
    "        \n",
    "    elif g == \"D\":\n",
    "       result_4=func_12(e,f)\n",
    "       return result_4\n",
    "    else:\n",
    "        return \"Not Matched\"\n",
    "        \n",
    "print(func_13(1,2,\"S\"))"
   ]
  },
  {
   "cell_type": "code",
   "execution_count": 176,
   "metadata": {},
   "outputs": [
    {
     "name": "stdout",
     "output_type": "stream",
     "text": [
      "[1, 3, 5, 7, 9]\n"
     ]
    }
   ],
   "source": [
    "# 홀수 짝수 에 따라 리스트 형식으로 결과 값 만들기!\n",
    "\n",
    "a=[] # 전역변수이다!\n",
    "def func_14(input_a, input_b):\n",
    "    for i in range(input_a, input_b+1, 1):        \n",
    "        if i % 2 == 0:\n",
    "            a.append(i)\n",
    "def func_15(input_a, input_b):\n",
    "    for i in range(input_a, input_b+1, 1):\n",
    "        if i % 2 == 1:\n",
    "            a.append(i)\n",
    "    print(a)\n",
    "    \n",
    "def func_16(input_a, input_b, input_c):\n",
    "    if input_c ==\"짝수\":\n",
    "         func_14(input_a,input_b)\n",
    "    elif input_c==\"홀수\":\n",
    "         func_15(input_a,input_b)\n",
    "func_16(1,10,\"홀수\")\n",
    "\n",
    "    "
   ]
  }
 ],
 "metadata": {
  "interpreter": {
   "hash": "b3ba2566441a7c06988d0923437866b63cedc61552a5af99d1f4fb67d367b25f"
  },
  "kernelspec": {
   "display_name": "Python 3.9.7 ('base')",
   "language": "python",
   "name": "python3"
  },
  "language_info": {
   "codemirror_mode": {
    "name": "ipython",
    "version": 3
   },
   "file_extension": ".py",
   "mimetype": "text/x-python",
   "name": "python",
   "nbconvert_exporter": "python",
   "pygments_lexer": "ipython3",
   "version": "3.9.7"
  },
  "orig_nbformat": 4
 },
 "nbformat": 4,
 "nbformat_minor": 2
}
