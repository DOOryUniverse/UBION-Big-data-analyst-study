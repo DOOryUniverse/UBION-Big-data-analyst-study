{
 "cells": [
  {
   "cell_type": "markdown",
   "metadata": {},
   "source": [
    "### 서포트 벡터 머신(SVM: Support Vector Machine)"
   ]
  },
  {
   "cell_type": "code",
   "execution_count": 10,
   "metadata": {},
   "outputs": [],
   "source": [
    "from sklearn import datasets\n",
    "iris = datasets.load_iris()\n",
    "x= iris.data\n",
    "y=iris.target\n",
    "from sklearn.model_selection import train_test_split\n",
    "X_train, X_test, y_train, y_test=train_test_split(x, y, test_size=.5)\n"
   ]
  },
  {
   "cell_type": "code",
   "execution_count": 14,
   "metadata": {},
   "outputs": [
    {
     "name": "stdout",
     "output_type": "stream",
     "text": [
      "[1 2 0 0 1 0 1 0 0 1 1 2 2 2 0 2 0 2 2 0 0 1 2 0 1 1 0 2 0 1 2 1 1 0 1 0 2\n",
      " 1 1 0 1 0 2 0 1 2 1 2 2 1 2 2 1 1 1 1 0 2 1 1 2 0 2 1 1 2 1 1 2 1 0 0 1 0\n",
      " 2]\n",
      "0.9866666666666667\n"
     ]
    }
   ],
   "source": [
    "from sklearn import svm\n",
    "clf = svm.SVC(gamma=0.001, C=100) # c값이 작을수록 소프트 마진한다., gamma가 작으면 소프트 마진한다.\n",
    "clf.fit(X_train, y_train)\n",
    "predictions=clf.predict(X_test)\n",
    "print(y_test)\n",
    "from sklearn.metrics import accuracy_score\n",
    "print(accuracy_score(y_test, predictions))\n",
    "\n"
   ]
  }
 ],
 "metadata": {
  "interpreter": {
   "hash": "b3ba2566441a7c06988d0923437866b63cedc61552a5af99d1f4fb67d367b25f"
  },
  "kernelspec": {
   "display_name": "Python 3.9.7 ('base')",
   "language": "python",
   "name": "python3"
  },
  "language_info": {
   "codemirror_mode": {
    "name": "ipython",
    "version": 3
   },
   "file_extension": ".py",
   "mimetype": "text/x-python",
   "name": "python",
   "nbconvert_exporter": "python",
   "pygments_lexer": "ipython3",
   "version": "3.9.7"
  },
  "orig_nbformat": 4
 },
 "nbformat": 4,
 "nbformat_minor": 2
}
