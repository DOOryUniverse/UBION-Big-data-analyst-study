{
  "cells": [
    {
      "cell_type": "markdown",
      "metadata": {},
      "source": [
        "# 파이썬 기초 -(변수, 문자열, 튜플, 리스트, 딕셔너리.. etc)"
      ]
    },
    {
      "cell_type": "code",
      "execution_count": null,
      "metadata": {
        "colab": {
          "base_uri": "https://localhost:8080/"
        },
        "id": "7npvyAjnr1vc",
        "outputId": "150e4b86-6d21-479d-b4ce-f4dbe9c266fd"
      },
      "outputs": [
        {
          "name": "stdout",
          "output_type": "stream",
          "text": [
            "hello wolrd\n"
          ]
        }
      ],
      "source": [
        "print(\"hello wolrd\")"
      ]
    },
    {
      "cell_type": "code",
      "execution_count": null,
      "metadata": {
        "colab": {
          "base_uri": "https://localhost:8080/"
        },
        "id": "v90VIzjYtXtQ",
        "outputId": "1906366e-6f4e-4d55-802c-c6639f44c709"
      },
      "outputs": [
        {
          "data": {
            "text/plain": [
              "200"
            ]
          },
          "execution_count": 3,
          "metadata": {},
          "output_type": "execute_result"
        }
      ],
      "source": [
        "10*20"
      ]
    },
    {
      "cell_type": "code",
      "execution_count": null,
      "metadata": {
        "id": "QihryG78taH7"
      },
      "outputs": [],
      "source": [
        "# 변수의 유의사항\n",
        "# _나 영문자로 시작해야 한다.\n",
        "# 숫자로 시작할 수 없다.\n",
        "# 특수문자를 사용할 수 없다.\n",
        "# 공백이 존재하면 안된다\n",
        "# 예약어는 사용할 수 없다."
      ]
    },
    {
      "cell_type": "code",
      "execution_count": null,
      "metadata": {
        "colab": {
          "base_uri": "https://localhost:8080/"
        },
        "id": "8ZwBspSavCSr",
        "outputId": "2bc2d17e-b9ee-43f6-bef9-006d5c1ac99c"
      },
      "outputs": [
        {
          "name": "stdout",
          "output_type": "stream",
          "text": [
            "<class 'int'>\n",
            "<class 'str'>\n"
          ]
        }
      ],
      "source": [
        "a=10\n",
        "b=\"test\"\n",
        "print(type(a))\n",
        "print(type(b))"
      ]
    },
    {
      "cell_type": "code",
      "execution_count": null,
      "metadata": {
        "colab": {
          "base_uri": "https://localhost:8080/"
        },
        "id": "_t2BSspxwQrp",
        "outputId": "41024710-c0a2-432f-f0f9-dfda8e3ada81"
      },
      "outputs": [
        {
          "name": "stdout",
          "output_type": "stream",
          "text": [
            "10 10 10\n",
            "10 3.14 test\n"
          ]
        }
      ],
      "source": [
        "a=b=c=10\n",
        "d, e, f=10,3.14, \"test\"\n",
        "print(a, b, c)\n",
        "print(d,e,f)"
      ]
    },
    {
      "cell_type": "code",
      "execution_count": null,
      "metadata": {
        "colab": {
          "base_uri": "https://localhost:8080/"
        },
        "id": "GZ_NPKjA1SJQ",
        "outputId": "79c8a7a6-b178-4b0c-83a7-0e1446f4b44c"
      },
      "outputs": [
        {
          "name": "stdout",
          "output_type": "stream",
          "text": [
            "4095 63 27\n"
          ]
        }
      ],
      "source": [
        "a=0xFFF\n",
        "b=0o77\n",
        "c=0b11011\n",
        "print(a,b,c)"
      ]
    },
    {
      "cell_type": "code",
      "execution_count": null,
      "metadata": {
        "id": "MGHq1PC43DyP"
      },
      "outputs": [],
      "source": [
        "# 문자형은 문자의 집합을 의미\n",
        "# 문자열은 큰따옴표 또는 작은따옴표로 감싸서 표시"
      ]
    },
    {
      "cell_type": "code",
      "execution_count": null,
      "metadata": {
        "colab": {
          "base_uri": "https://localhost:8080/"
        },
        "id": "8C8kMKTx3PM8",
        "outputId": "66e34d8e-d61b-49a8-a873-4843790034f5"
      },
      "outputs": [
        {
          "name": "stdout",
          "output_type": "stream",
          "text": [
            "True False True\n"
          ]
        }
      ],
      "source": [
        "# bool 형은 True, False 의 2가지의 값만 존재한다.\n",
        "a= True\n",
        "type(a)\n",
        "\n",
        "b=(100>10)\n",
        "c=(100<10)\n",
        "d=(100==100)\n",
        "print(b,c,d)"
      ]
    },
    {
      "cell_type": "code",
      "execution_count": null,
      "metadata": {
        "colab": {
          "base_uri": "https://localhost:8080/"
        },
        "id": "1EvIMpiR4ABH",
        "outputId": "0e343417-d252-4190-f344-e6bc6a081672"
      },
      "outputs": [
        {
          "name": "stdout",
          "output_type": "stream",
          "text": [
            "10 4 21 2.3333333333333335 2 1 343\n"
          ]
        }
      ],
      "source": [
        "# = 대입 연산자\n",
        "# + 덧셈\n",
        "#- 뺄셈\n",
        "# * 곱셈\n",
        "# / 나눗셈\n",
        "# // 나눗셈(몫)\n",
        "# % 나머지 값\n",
        "# ** 제곱\n",
        "\n",
        "# 연산자가 여러 개일 경우에는 일반적인 사칙연산과 마찬가지로 우선 순위를 잡아서 계산한다.\n",
        "\n",
        "a=7\n",
        "b=3\n",
        "print(a+b,a-b, a*b, a/b, a//b, a%b , a**b)"
      ]
    },
    {
      "cell_type": "code",
      "execution_count": null,
      "metadata": {
        "colab": {
          "base_uri": "https://localhost:8080/"
        },
        "id": "HhgVCFEE5Kqh",
        "outputId": "7e00ae51-0340-4973-a6f5-2529137e19e8"
      },
      "outputs": [
        {
          "name": "stdout",
          "output_type": "stream",
          "text": [
            "helloworld\n"
          ]
        }
      ],
      "source": [
        "a=\"hello\"\n",
        "b=\"world\"\n",
        "print(a+b)"
      ]
    },
    {
      "cell_type": "code",
      "execution_count": null,
      "metadata": {
        "colab": {
          "base_uri": "https://localhost:8080/"
        },
        "id": "9MTG14Hr5hb7",
        "outputId": "c5329a96-e2bf-45e8-82b0-008fae853d14"
      },
      "outputs": [
        {
          "name": "stdout",
          "output_type": "stream",
          "text": [
            "6\n"
          ]
        }
      ],
      "source": [
        "# 대입 연산자\n",
        "a=1\n",
        "b=2\n",
        "a+=5\n",
        "print(a)"
      ]
    },
    {
      "cell_type": "code",
      "execution_count": null,
      "metadata": {
        "colab": {
          "base_uri": "https://localhost:8080/"
        },
        "id": "4cFvORVG6M9V",
        "outputId": "1aef085a-5aac-4899-edfa-4c8e5386e24b"
      },
      "outputs": [
        {
          "name": "stdout",
          "output_type": "stream",
          "text": [
            "False True False True True False\n"
          ]
        }
      ],
      "source": [
        "# 관계 연산자\n",
        "# == 같다\n",
        "# != 같지 않다\n",
        "a=10\n",
        "b=20\n",
        "print(a==b, a!=b, a>b, a<b, a<=b, a>=b)"
      ]
    },
    {
      "cell_type": "code",
      "execution_count": null,
      "metadata": {
        "colab": {
          "base_uri": "https://localhost:8080/"
        },
        "id": "I42SMSvD7A2B",
        "outputId": "59378988-c20e-41b2-d1c0-adc40f845718"
      },
      "outputs": [
        {
          "data": {
            "text/plain": [
              "True"
            ]
          },
          "execution_count": 21,
          "metadata": {},
          "output_type": "execute_result"
        }
      ],
      "source": [
        "# 논리 연산자\n",
        "# and, or, not\n",
        "a=25\n",
        "(a>30) and (a<50)\n",
        "(a>30) and (a<50)\n",
        "not(a==30)"
      ]
    },
    {
      "cell_type": "code",
      "execution_count": null,
      "metadata": {
        "colab": {
          "base_uri": "https://localhost:8080/"
        },
        "id": "K5FKTikz7GdR",
        "outputId": "e3eeda2e-0b1f-460a-babe-8a0fd77f32ad"
      },
      "outputs": [
        {
          "name": "stdout",
          "output_type": "stream",
          "text": [
            "a는 10보다 작다\n"
          ]
        }
      ],
      "source": [
        "# 조건문\n",
        "a=5\n",
        "if a < 10:\n",
        "  print(\"a는 10보다 작다\")"
      ]
    },
    {
      "cell_type": "code",
      "execution_count": null,
      "metadata": {
        "colab": {
          "base_uri": "https://localhost:8080/"
        },
        "id": "9B0T45af893E",
        "outputId": "24cafb6d-7451-4605-b2c6-eed68ef83ffa"
      },
      "outputs": [
        {
          "name": "stdout",
          "output_type": "stream",
          "text": [
            "a는 10보다 큽니다\n"
          ]
        }
      ],
      "source": [
        "a=20\n",
        "if a<10:\n",
        "  print(\"a는 10보다 작습니다.\")\n",
        "else:\n",
        "  print(\"a는 10보다 큽니다\")"
      ]
    },
    {
      "cell_type": "code",
      "execution_count": null,
      "metadata": {
        "colab": {
          "base_uri": "https://localhost:8080/"
        },
        "id": "VMYu9KI89Jtp",
        "outputId": "10c47bfa-9363-4027-8a27-fd61efc0ed99"
      },
      "outputs": [
        {
          "name": "stdout",
          "output_type": "stream",
          "text": [
            "점수를 입력하세요: 90\n",
            "A학점\n"
          ]
        }
      ],
      "source": [
        "score=int(input(\"점수를 입력하세요: \"))\n",
        "if score >=90:\n",
        "  print(\"A학점\")\n",
        "elif score >=80:\n",
        "  print(\"B학점\")\n",
        "elif score >=70:\n",
        "  print(\"C학점\")\n",
        "elif score >=60:\n",
        "  print(\"D학점\")\n",
        "else:\n",
        "  print(\"F학점\")\n"
      ]
    },
    {
      "cell_type": "code",
      "execution_count": null,
      "metadata": {
        "colab": {
          "base_uri": "https://localhost:8080/"
        },
        "id": "r8vl7mYt-CM2",
        "outputId": "cbda513f-fbf4-40de-a8b9-ae50d9dbbb51"
      },
      "outputs": [
        {
          "name": "stdout",
          "output_type": "stream",
          "text": [
            "모두 할 수 있다!\n",
            "모두 할 수 있다!\n",
            "모두 할 수 있다!\n",
            "모두 할 수 있다!\n",
            "모두 할 수 있다!\n"
          ]
        }
      ],
      "source": [
        "# 반복문\n",
        "# for문\n",
        "# 주로 0부터 시작한다.\n",
        "for i  in range(0, 5,1):\n",
        "  print(\"모두 할 수 있다!\")"
      ]
    },
    {
      "cell_type": "code",
      "execution_count": null,
      "metadata": {
        "colab": {
          "base_uri": "https://localhost:8080/"
        },
        "id": "O3WdHZlA-mXm",
        "outputId": "27f36e91-98df-4202-fb44-c3c982fb8524"
      },
      "outputs": [
        {
          "name": "stdout",
          "output_type": "stream",
          "text": [
            "0 번째 반복입니다.\n",
            "1 번째 반복입니다.\n",
            "2 번째 반복입니다.\n",
            "3 번째 반복입니다.\n",
            "4 번째 반복입니다.\n"
          ]
        }
      ],
      "source": [
        "for i in range(0,5,1):\n",
        "  print(\"%d 번째 반복입니다.\" % i)"
      ]
    },
    {
      "cell_type": "code",
      "execution_count": null,
      "metadata": {
        "colab": {
          "base_uri": "https://localhost:8080/"
        },
        "id": "fNZwQOgo_Kvm",
        "outputId": "84e4d8fa-79e8-4b69-f144-a993071c97f9"
      },
      "outputs": [
        {
          "name": "stdout",
          "output_type": "stream",
          "text": [
            "55\n"
          ]
        }
      ],
      "source": [
        "a=0\n",
        "for i in range(1,11,1):\n",
        "  a=a+i\n",
        "print(a)"
      ]
    },
    {
      "cell_type": "code",
      "execution_count": null,
      "metadata": {
        "colab": {
          "base_uri": "https://localhost:8080/"
        },
        "id": "47RJDmaA_3Cc",
        "outputId": "1d7cce05-2df2-442b-bca9-ce1c84e55567"
      },
      "outputs": [
        {
          "name": "stdout",
          "output_type": "stream",
          "text": [
            "2 * 1 = 2\n",
            "2 * 2 = 4\n",
            "2 * 3 = 6\n",
            "2 * 4 = 8\n",
            "2 * 5 = 10\n",
            "2 * 6 = 12\n",
            "2 * 7 = 14\n",
            "2 * 8 = 16\n",
            "2 * 9 = 18\n",
            "3 * 1 = 3\n",
            "3 * 2 = 6\n",
            "3 * 3 = 9\n",
            "3 * 4 = 12\n",
            "3 * 5 = 15\n",
            "3 * 6 = 18\n",
            "3 * 7 = 21\n",
            "3 * 8 = 24\n",
            "3 * 9 = 27\n",
            "4 * 1 = 4\n",
            "4 * 2 = 8\n",
            "4 * 3 = 12\n",
            "4 * 4 = 16\n",
            "4 * 5 = 20\n",
            "4 * 6 = 24\n",
            "4 * 7 = 28\n",
            "4 * 8 = 32\n",
            "4 * 9 = 36\n",
            "5 * 1 = 5\n",
            "5 * 2 = 10\n",
            "5 * 3 = 15\n",
            "5 * 4 = 20\n",
            "5 * 5 = 25\n",
            "5 * 6 = 30\n",
            "5 * 7 = 35\n",
            "5 * 8 = 40\n",
            "5 * 9 = 45\n",
            "6 * 1 = 6\n",
            "6 * 2 = 12\n",
            "6 * 3 = 18\n",
            "6 * 4 = 24\n",
            "6 * 5 = 30\n",
            "6 * 6 = 36\n",
            "6 * 7 = 42\n",
            "6 * 8 = 48\n",
            "6 * 9 = 54\n",
            "7 * 1 = 7\n",
            "7 * 2 = 14\n",
            "7 * 3 = 21\n",
            "7 * 4 = 28\n",
            "7 * 5 = 35\n",
            "7 * 6 = 42\n",
            "7 * 7 = 49\n",
            "7 * 8 = 56\n",
            "7 * 9 = 63\n",
            "8 * 1 = 8\n",
            "8 * 2 = 16\n",
            "8 * 3 = 24\n",
            "8 * 4 = 32\n",
            "8 * 5 = 40\n",
            "8 * 6 = 48\n",
            "8 * 7 = 56\n",
            "8 * 8 = 64\n",
            "8 * 9 = 72\n",
            "9 * 1 = 9\n",
            "9 * 2 = 18\n",
            "9 * 3 = 27\n",
            "9 * 4 = 36\n",
            "9 * 5 = 45\n",
            "9 * 6 = 54\n",
            "9 * 7 = 63\n",
            "9 * 8 = 72\n",
            "9 * 9 = 81\n"
          ]
        }
      ],
      "source": [
        "# 다중 for 문\n",
        "for i in range(2,10,1):\n",
        "  for j in range(1,10,1):\n",
        "    print(\"%d * %d = %d\" % (i,j, i*j))"
      ]
    },
    {
      "cell_type": "code",
      "execution_count": null,
      "metadata": {
        "colab": {
          "base_uri": "https://localhost:8080/"
        },
        "id": "pFlB6QSLAKwB",
        "outputId": "10b1b47e-d97e-4580-f8c5-7ba53f0e366c"
      },
      "outputs": [
        {
          "name": "stdout",
          "output_type": "stream",
          "text": [
            "1에서 10까지의 합은 55\n"
          ]
        }
      ],
      "source": [
        "# while 문\n",
        "sum =0\n",
        "i=1\n",
        "while i<11:\n",
        "  sum+=i\n",
        "  i+=1\n",
        "print(\"1에서 10까지의 합은 %d\" % sum)"
      ]
    },
    {
      "cell_type": "code",
      "execution_count": null,
      "metadata": {
        "id": "PBWpfbt3B5xl"
      },
      "outputs": [],
      "source": [
        "# while 문에서 조심해야할 점은 조건식 부분에 True 가 들어가게 되면 무한 반복이 된다."
      ]
    },
    {
      "cell_type": "code",
      "execution_count": null,
      "metadata": {
        "colab": {
          "base_uri": "https://localhost:8080/"
        },
        "id": "xDWErFfgCAAX",
        "outputId": "35e32d1f-b97e-44ee-b571-f309d85fa2a0"
      },
      "outputs": [
        {
          "name": "stdout",
          "output_type": "stream",
          "text": [
            "1번째 반복\n",
            "2번째 반복\n",
            "3번째 반복\n",
            "4번째 반복\n",
            "5번째 반복\n"
          ]
        }
      ],
      "source": [
        "# break 문\n",
        "# 반복문에서 반복이 되는 도중에 빠져 나가는 break 문이 있다.\n",
        "for i in range(1,100,1):\n",
        "  print(\"%d번째 반복\" %i)\n",
        "  if i==5:\n",
        "    break;"
      ]
    },
    {
      "cell_type": "code",
      "execution_count": null,
      "metadata": {
        "colab": {
          "base_uri": "https://localhost:8080/"
        },
        "id": "6e1C_4qOCTKx",
        "outputId": "02fd85c8-8381-49c9-d0e7-246fcac3dded"
      },
      "outputs": [
        {
          "name": "stdout",
          "output_type": "stream",
          "text": [
            "합계가 500 이상이 되는 범위의 숫자는: 32\n"
          ]
        }
      ],
      "source": [
        "sum=0\n",
        "i=0\n",
        "\n",
        "for i in range(1,100,1):\n",
        "  sum+=i\n",
        "  if sum>=500:\n",
        "    break\n",
        "print(\"합계가 500 이상이 되는 범위의 숫자는: %d\" % i)"
      ]
    },
    {
      "cell_type": "markdown",
      "metadata": {
        "id": "faBrCojMyy_7"
      },
      "source": []
    },
    {
      "cell_type": "code",
      "execution_count": null,
      "metadata": {
        "colab": {
          "base_uri": "https://localhost:8080/"
        },
        "id": "WeWM__UZCroI",
        "outputId": "7e86ad74-1ffe-43bd-d75e-af00e4a46a05"
      },
      "outputs": [
        {
          "name": "stdout",
          "output_type": "stream",
          "text": [
            "3 번째 반복\n",
            "4 번째 반복\n",
            "5 번째 반복\n",
            "6 번째 반복\n",
            "7 번째 반복\n",
            "8 번째 반복\n",
            "9 번째 반복\n"
          ]
        }
      ],
      "source": [
        "# continue 문\n",
        "for i in range(1,10,1):\n",
        "  if i<=2:\n",
        "    continue\n",
        "  print(\"%d 번째 반복\" % i)"
      ]
    },
    {
      "cell_type": "code",
      "execution_count": null,
      "metadata": {
        "colab": {
          "base_uri": "https://localhost:8080/",
          "height": 245
        },
        "id": "v6W785dlcp3K",
        "outputId": "828fb743-95ab-4ad7-e406-a71bc9298503"
      },
      "outputs": [
        {
          "ename": "TypeError",
          "evalue": "ignored",
          "output_type": "error",
          "traceback": [
            "\u001b[0;31m---------------------------------------------------------------------------\u001b[0m",
            "\u001b[0;31mTypeError\u001b[0m                                 Traceback (most recent call last)",
            "\u001b[0;32m<ipython-input-62-936b5fb61e51>\u001b[0m in \u001b[0;36m<module>\u001b[0;34m()\u001b[0m\n\u001b[1;32m      2\u001b[0m \u001b[0ma\u001b[0m\u001b[0;34m=\u001b[0m\u001b[0;34m(\u001b[0m\u001b[0;36m10\u001b[0m\u001b[0;34m,\u001b[0m\u001b[0;36m20\u001b[0m\u001b[0;34m,\u001b[0m\u001b[0;36m30\u001b[0m\u001b[0;34m,\u001b[0m\u001b[0;36m40\u001b[0m\u001b[0;34m,\u001b[0m\u001b[0;36m50\u001b[0m\u001b[0;34m)\u001b[0m\u001b[0;34m\u001b[0m\u001b[0;34m\u001b[0m\u001b[0m\n\u001b[1;32m      3\u001b[0m \u001b[0mb\u001b[0m\u001b[0;34m=\u001b[0m\u001b[0;36m60\u001b[0m\u001b[0;34m\u001b[0m\u001b[0;34m\u001b[0m\u001b[0m\n\u001b[0;32m----> 4\u001b[0;31m \u001b[0mc\u001b[0m \u001b[0;34m=\u001b[0m \u001b[0ma\u001b[0m\u001b[0;34m+\u001b[0m\u001b[0mb\u001b[0m\u001b[0;34m\u001b[0m\u001b[0;34m\u001b[0m\u001b[0m\n\u001b[0m\u001b[1;32m      5\u001b[0m \u001b[0;31m# 튜플은 값을 수정 할 수 없다. 튜플은 읽기 전용이다.\u001b[0m\u001b[0;34m\u001b[0m\u001b[0;34m\u001b[0m\u001b[0;34m\u001b[0m\u001b[0m\n\u001b[1;32m      6\u001b[0m \u001b[0mprint\u001b[0m\u001b[0;34m(\u001b[0m\u001b[0mc\u001b[0m\u001b[0;34m)\u001b[0m\u001b[0;34m\u001b[0m\u001b[0;34m\u001b[0m\u001b[0m\n",
            "\u001b[0;31mTypeError\u001b[0m: can only concatenate tuple (not \"int\") to tuple"
          ]
        }
      ],
      "source": [
        "# 튜플: 소괄호로 표시한다.\n",
        "a=(10,20,30,40,50)\n",
        "b=60\n",
        "c = a+b \n",
        "# 튜플은 값을 수정 할 수 없다. 튜플은 읽기 전용이다.\n",
        "print(c)\n",
        "print(a[0:5])\n"
      ]
    },
    {
      "cell_type": "code",
      "execution_count": null,
      "metadata": {
        "colab": {
          "base_uri": "https://localhost:8080/"
        },
        "id": "82-DDw-neBdQ",
        "outputId": "da61410b-aa58-4000-c4d1-95cc97041e8c"
      },
      "outputs": [
        {
          "name": "stdout",
          "output_type": "stream",
          "text": [
            "(10, 20, 30, 40, 50)\n"
          ]
        }
      ],
      "source": [
        "a=(10,20,30,40,50)\n",
        "print(a[0:5])"
      ]
    },
    {
      "cell_type": "code",
      "execution_count": null,
      "metadata": {
        "colab": {
          "base_uri": "https://localhost:8080/"
        },
        "id": "T1eybKMAeGn3",
        "outputId": "2263d335-a552-44b1-92d2-80103008cdb0"
      },
      "outputs": [
        {
          "name": "stdout",
          "output_type": "stream",
          "text": [
            "[1, 2, 3, 4, 5]\n",
            "[1, 2, 3]\n"
          ]
        }
      ],
      "source": [
        "# 리스트: 대괄호 안에 요소들을 저장하며 0개 이상 이면 가능\n",
        "a=[1,2,3,4,5]\n",
        "print(a)\n",
        "print(a[0:3])"
      ]
    },
    {
      "cell_type": "code",
      "execution_count": null,
      "metadata": {
        "colab": {
          "base_uri": "https://localhost:8080/"
        },
        "id": "uYh4DiZFpNA7",
        "outputId": "af5a2acc-a7d2-48c6-8d5e-c26b51b6876b"
      },
      "outputs": [
        {
          "name": "stdout",
          "output_type": "stream",
          "text": [
            "6\n",
            "[1, 2, 3, 4, 5, 7]\n"
          ]
        }
      ],
      "source": [
        "a=[1,2,3,4,5]\n",
        "a.append(7)\n",
        "print(len(a))\n",
        "print(a)"
      ]
    },
    {
      "cell_type": "code",
      "execution_count": null,
      "metadata": {
        "colab": {
          "base_uri": "https://localhost:8080/"
        },
        "id": "D8XocuEtp1qv",
        "outputId": "31510736-2401-46ba-f568-e24cab516876"
      },
      "outputs": [
        {
          "name": "stdout",
          "output_type": "stream",
          "text": [
            "[30, 40, 50, 60, 800]\n",
            "[80, 70, 10]\n",
            "[30, 50, 60, 800]\n",
            "[80, 70, 10]\n"
          ]
        }
      ],
      "source": [
        "a = [800,30,40,50,60]\n",
        "b= [10,70,80]\n",
        "a.sort()\n",
        "b.reverse()\n",
        "print(a)\n",
        "print(b)\n",
        "\n",
        "del a[1]\n",
        "print(a)\n",
        "print(b)"
      ]
    },
    {
      "cell_type": "code",
      "execution_count": null,
      "metadata": {
        "colab": {
          "base_uri": "https://localhost:8080/"
        },
        "id": "8qFl8WJiq6Cx",
        "outputId": "0ae45c62-0e37-4436-a0e1-11ce5c59cab3"
      },
      "outputs": [
        {
          "name": "stdout",
          "output_type": "stream",
          "text": [
            "[[10, 20], [30, 40], [50, 60]]\n",
            "[10, 20]\n",
            "20\n"
          ]
        }
      ],
      "source": [
        "# 2차원 리스트\n",
        "a=[[10,20], [30,40], [50,60]]\n",
        "print(a)\n",
        "print(a[0])\n",
        "print(a[0][1])"
      ]
    },
    {
      "cell_type": "code",
      "execution_count": null,
      "metadata": {
        "colab": {
          "base_uri": "https://localhost:8080/"
        },
        "id": "wSvU-TxIIJUD",
        "outputId": "1fbedb16-8823-4783-f4c8-e27c0922d30f"
      },
      "outputs": [
        {
          "name": "stdout",
          "output_type": "stream",
          "text": [
            "10\n",
            "30\n",
            "50\n"
          ]
        }
      ],
      "source": [
        "# for문으로 2차원 리스트 출력\n",
        "a = [[10, 20], [30, 40], [50, 60]]\n",
        " \n",
        "for i in range(0,len(a), 1):\n",
        "  print(a[i][0])"
      ]
    },
    {
      "cell_type": "code",
      "execution_count": null,
      "metadata": {
        "colab": {
          "base_uri": "https://localhost:8080/"
        },
        "id": "e-fzIPefISk1",
        "outputId": "c9702fad-c3bb-4853-c360-a7afac80c2a8"
      },
      "outputs": [
        {
          "name": "stdout",
          "output_type": "stream",
          "text": [
            "[10, 30, 50]\n"
          ]
        }
      ],
      "source": [
        "b=[]\n",
        "for i in range(0, len(a), 1):\n",
        "  b.insert(i, a[i][0])\n",
        "print(b)"
      ]
    },
    {
      "cell_type": "code",
      "execution_count": null,
      "metadata": {
        "colab": {
          "base_uri": "https://localhost:8080/"
        },
        "id": "iAjgUd35vXHa",
        "outputId": "db291761-f9e1-4f95-c6b9-01b56b46c9e1"
      },
      "outputs": [
        {
          "name": "stdout",
          "output_type": "stream",
          "text": [
            "{'name': '이정환', 'age': 26, 'phone': '010-0000-0000'}\n",
            "이정환\n",
            "{'name': '이정환', 'age': 26, 'phone': '010-0000-0000', 'area': 'Seoul'}\n"
          ]
        }
      ],
      "source": [
        "# 딕셔너리 : 중괄호 안에 key값과 value  값이 정해져 있음\n",
        "a={\"name\":\"이정환\", \"age\":26, \"phone\":\"010-0000-0000\"}\n",
        "\n",
        "print(a)\n",
        "print(a[\"name\"])\n",
        "\n",
        "a[\"area\"] = \"Seoul\"\n",
        "\n",
        "print(a)"
      ]
    },
    {
      "cell_type": "code",
      "execution_count": null,
      "metadata": {
        "colab": {
          "base_uri": "https://localhost:8080/"
        },
        "id": "vpVpaYthv6sB",
        "outputId": "b1b0c767-56f1-416a-8497-c16c751cc99c"
      },
      "outputs": [
        {
          "data": {
            "text/plain": [
              "dict_items([('name', '이정환'), ('age', 26), ('phone', '010-0000-0000'), ('area', 'Seoul')])"
            ]
          },
          "execution_count": 57,
          "metadata": {},
          "output_type": "execute_result"
        }
      ],
      "source": [
        "list(a.keys())\n",
        "a.values()\n",
        "a.items()"
      ]
    },
    {
      "cell_type": "code",
      "execution_count": null,
      "metadata": {
        "colab": {
          "base_uri": "https://localhost:8080/"
        },
        "id": "x-25VIZDy0Z0",
        "outputId": "f9a7ab37-7ff1-4676-aa69-839a75083c00"
      },
      "outputs": [
        {
          "name": "stdout",
          "output_type": "stream",
          "text": [
            "HELLO\n",
            "hello\n",
            "hELLO\n",
            "Hello\n"
          ]
        }
      ],
      "source": [
        "# 문자열 함수\n",
        "# len(): 문자열의 길이를 출력\n",
        "# upper(): 문자를 모두 대문자로 변환\n",
        "# lower(): 문자를 모두 소문자로 변환\n",
        "# swapcase(): 대문자를 소문자로 , 소문자를 대문자로 변환\n",
        "# title(): 단어의 첫 문자만 대문자로 변환\n",
        "\n",
        "a=\"Hello\"\n",
        "print(a.upper())\n",
        "print(a.lower())\n",
        "print(a.swapcase())\n",
        "print(a.title())"
      ]
    },
    {
      "cell_type": "code",
      "execution_count": null,
      "metadata": {
        "colab": {
          "base_uri": "https://localhost:8080/"
        },
        "id": "HeVsIn-Ez4Zl",
        "outputId": "1a878d79-4889-40ed-d80d-535318fe5d56"
      },
      "outputs": [
        {
          "name": "stdout",
          "output_type": "stream",
          "text": [
            "0\n"
          ]
        },
        {
          "data": {
            "text/plain": [
              "8"
            ]
          },
          "execution_count": 63,
          "metadata": {},
          "output_type": "execute_result"
        }
      ],
      "source": [
        "a = \"Hello world\"\n",
        "\n",
        "# count(): 문자열의 개수 출력\n",
        "# find(): 문자열 앞부터 시작하여 처음으로 나온 위치를 출력\n",
        "# index(): find와 가팅 위치를 출력하지만 찾는 단어가 없을 시 에러 발생\n",
        "\n",
        "\n",
        "print(a.count(\"O\"))\n",
        "a.find(\"r\")\n",
        "a.index(\"r\")"
      ]
    },
    {
      "cell_type": "code",
      "execution_count": null,
      "metadata": {
        "colab": {
          "base_uri": "https://localhost:8080/"
        },
        "id": "QUvOkZhX4sbe",
        "outputId": "8f602a0c-72f4-491e-dc83-99e1874b27f5"
      },
      "outputs": [
        {
          "name": "stdout",
          "output_type": "stream",
          "text": [
            "Hello world\n",
            "     Hello world\n",
            "Hello world\n"
          ]
        }
      ],
      "source": [
        "# isrip(): 문자열 왼쪽의 공백을 지운다.\n",
        "# rstrip(): 문자열 오른쪽의 공백을 지운다.\n",
        "# strip(): 문자열 양쪽의 공백을 지운다.\n",
        "\n",
        "a = \"     Hello world\"\n",
        "print(a.lstrip())\n",
        "print(a.rstrip())\n",
        "print(a.strip())"
      ]
    },
    {
      "cell_type": "code",
      "execution_count": null,
      "metadata": {
        "colab": {
          "base_uri": "https://localhost:8080/"
        },
        "id": "G6bt9gNCJKDT",
        "outputId": "99725c5a-1a69-436c-c761-d2953be0b861"
      },
      "outputs": [
        {
          "name": "stdout",
          "output_type": "stream",
          "text": [
            "['Hello', 'world']\n"
          ]
        },
        {
          "data": {
            "text/plain": [
              "['a', 'b', 'c', 'd']"
            ]
          },
          "execution_count": 93,
          "metadata": {},
          "output_type": "execute_result"
        }
      ],
      "source": [
        "# replace() : 문자열 안의 특정한 값을 다른 값으로 치환한다.\n",
        "# split() : 문자열을 괄호 안에 값으로 구분하여 나누어준다.(괄호 안이 값을 넣지 않으면 공백을 기준으로 한다.)\n",
        "\n",
        "a = \"Hello world\"\n",
        "\n",
        "a.replace(\"Hello\", \"HI\")\n",
        "a.split()\n",
        "print(a.split())\n",
        "\n",
        "b=\"a,b,c,d\"\n",
        "b.split(\",\")"
      ]
    },
    {
      "cell_type": "code",
      "execution_count": null,
      "metadata": {
        "id": "Z13Cxz4jJ-iD"
      },
      "outputs": [],
      "source": [
        "\n",
        "b=\"a,b,c,d\"\n",
        "print()"
      ]
    },
    {
      "cell_type": "markdown",
      "metadata": {
        "id": "MBTxtiiRGONx"
      },
      "source": []
    }
  ],
  "metadata": {
    "colab": {
      "collapsed_sections": [],
      "name": "2월 21일 파이썬 실습-1.ipynb",
      "provenance": []
    },
    "kernelspec": {
      "display_name": "Python 3",
      "name": "python3"
    },
    "language_info": {
      "name": "python"
    }
  },
  "nbformat": 4,
  "nbformat_minor": 0
}
