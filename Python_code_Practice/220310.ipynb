{
 "cells": [
  {
   "cell_type": "code",
   "execution_count": 24,
   "metadata": {},
   "outputs": [],
   "source": [
    "import pymysql\n",
    "import pandas as pd"
   ]
  },
  {
   "cell_type": "code",
   "execution_count": 25,
   "metadata": {},
   "outputs": [],
   "source": [
    "_db = pymysql.connect(\n",
    "    user = \"root\", # mysql 아이디\n",
    "    passwd = \"root\", # mysql 비밀번호\n",
    "    host =\"localhost\", # 내 컴퓨터\n",
    "    db = \"ubion\"\n",
    ")"
   ]
  },
  {
   "cell_type": "code",
   "execution_count": 26,
   "metadata": {},
   "outputs": [],
   "source": [
    "cursor = _db.cursor(pymysql.cursors.DictCursor)"
   ]
  },
  {
   "cell_type": "code",
   "execution_count": 27,
   "metadata": {},
   "outputs": [
    {
     "name": "stdout",
     "output_type": "stream",
     "text": [
      "[{'ID': 'cower', 'password': 'wer234', 'name': '신다혜', 'phone': '010-0269-2532', 'ads': 'Goyang', 'gender': 2, 'age': 24, 'regit_date': '2022-01-23'}, {'ID': 'cury', 'password': 'gwegw', 'name': '손흥민', 'phone': '010-0685-3572', 'ads': 'Seoul', 'gender': 1, 'age': 30, 'regit_date': '2022-01-15'}, {'ID': 'doory', 'password': 'sow', 'name': '이정환', 'phone': '010-0235-2342', 'ads': 'New York', 'gender': 1, 'age': 26, 'regit_date': '2022-01-23'}, {'ID': 'doosy', 'password': 'df23f', 'name': '장동민', 'phone': '010-0235-3342', 'ads': 'Busan', 'gender': 1, 'age': 26, 'regit_date': '2022-03-14'}, {'ID': 'kiks', 'password': 'wef23', 'name': '김진수', 'phone': '010-0255-2342', 'ads': 'Gangwon', 'gender': 2, 'age': 23, 'regit_date': '2022-03-14'}, {'ID': 'kim', 'password': '23g324', 'name': '김주영', 'phone': '010-3250-3523', 'ads': 'Istanbul', 'gender': 2, 'age': 32, 'regit_date': '2022-01-23'}, {'ID': 'test5', 'password': '32632', 'name': '또치', 'phone': '010-3235-3512', 'ads': 'Zoo', 'gender': 2, 'age': 17, 'regit_date': '2022-02-05'}]\n"
     ]
    }
   ],
   "source": [
    "sql = \"SELECT * FROM user_info\"\n",
    "\n",
    "cursor.execute(sql)\n",
    "result = cursor.fetchall()\n",
    "print(result)"
   ]
  },
  {
   "cell_type": "code",
   "execution_count": 28,
   "metadata": {},
   "outputs": [],
   "source": [
    "dt= pd.DataFrame(result)"
   ]
  },
  {
   "cell_type": "code",
   "execution_count": 16,
   "metadata": {},
   "outputs": [
    {
     "data": {
      "text/html": [
       "<div>\n",
       "<style scoped>\n",
       "    .dataframe tbody tr th:only-of-type {\n",
       "        vertical-align: middle;\n",
       "    }\n",
       "\n",
       "    .dataframe tbody tr th {\n",
       "        vertical-align: top;\n",
       "    }\n",
       "\n",
       "    .dataframe thead th {\n",
       "        text-align: right;\n",
       "    }\n",
       "</style>\n",
       "<table border=\"1\" class=\"dataframe\">\n",
       "  <thead>\n",
       "    <tr style=\"text-align: right;\">\n",
       "      <th></th>\n",
       "      <th>ID</th>\n",
       "      <th>password</th>\n",
       "      <th>name</th>\n",
       "      <th>phone</th>\n",
       "      <th>ads</th>\n",
       "      <th>gender</th>\n",
       "      <th>age</th>\n",
       "      <th>regit_date</th>\n",
       "    </tr>\n",
       "  </thead>\n",
       "  <tbody>\n",
       "    <tr>\n",
       "      <th>0</th>\n",
       "      <td>cower</td>\n",
       "      <td>wer234</td>\n",
       "      <td>신다혜</td>\n",
       "      <td>010-0269-2532</td>\n",
       "      <td>Goyang</td>\n",
       "      <td>2</td>\n",
       "      <td>24</td>\n",
       "      <td>2022-01-23</td>\n",
       "    </tr>\n",
       "    <tr>\n",
       "      <th>1</th>\n",
       "      <td>cury</td>\n",
       "      <td>gwegw</td>\n",
       "      <td>손흥민</td>\n",
       "      <td>010-0685-3572</td>\n",
       "      <td>Seoul</td>\n",
       "      <td>1</td>\n",
       "      <td>30</td>\n",
       "      <td>2022-01-15</td>\n",
       "    </tr>\n",
       "    <tr>\n",
       "      <th>2</th>\n",
       "      <td>doory</td>\n",
       "      <td>sow</td>\n",
       "      <td>이정환</td>\n",
       "      <td>010-0235-2342</td>\n",
       "      <td>New York</td>\n",
       "      <td>1</td>\n",
       "      <td>26</td>\n",
       "      <td>2022-01-23</td>\n",
       "    </tr>\n",
       "    <tr>\n",
       "      <th>3</th>\n",
       "      <td>doosy</td>\n",
       "      <td>df23f</td>\n",
       "      <td>장동민</td>\n",
       "      <td>010-0235-3342</td>\n",
       "      <td>Busan</td>\n",
       "      <td>1</td>\n",
       "      <td>26</td>\n",
       "      <td>2022-03-14</td>\n",
       "    </tr>\n",
       "    <tr>\n",
       "      <th>4</th>\n",
       "      <td>kiks</td>\n",
       "      <td>wef23</td>\n",
       "      <td>김진수</td>\n",
       "      <td>010-0255-2342</td>\n",
       "      <td>Gangwon</td>\n",
       "      <td>2</td>\n",
       "      <td>23</td>\n",
       "      <td>2022-03-14</td>\n",
       "    </tr>\n",
       "    <tr>\n",
       "      <th>5</th>\n",
       "      <td>kim</td>\n",
       "      <td>23g324</td>\n",
       "      <td>김주영</td>\n",
       "      <td>010-3250-3523</td>\n",
       "      <td>Istanbul</td>\n",
       "      <td>2</td>\n",
       "      <td>32</td>\n",
       "      <td>2022-01-23</td>\n",
       "    </tr>\n",
       "    <tr>\n",
       "      <th>6</th>\n",
       "      <td>test5</td>\n",
       "      <td>32632</td>\n",
       "      <td>또치</td>\n",
       "      <td>010-3235-3512</td>\n",
       "      <td>Zoo</td>\n",
       "      <td>2</td>\n",
       "      <td>17</td>\n",
       "      <td>2022-02-05</td>\n",
       "    </tr>\n",
       "  </tbody>\n",
       "</table>\n",
       "</div>"
      ],
      "text/plain": [
       "      ID password name          phone       ads  gender  age  regit_date\n",
       "0  cower   wer234  신다혜  010-0269-2532    Goyang       2   24  2022-01-23\n",
       "1   cury    gwegw  손흥민  010-0685-3572     Seoul       1   30  2022-01-15\n",
       "2  doory      sow  이정환  010-0235-2342  New York       1   26  2022-01-23\n",
       "3  doosy    df23f  장동민  010-0235-3342     Busan       1   26  2022-03-14\n",
       "4   kiks    wef23  김진수  010-0255-2342   Gangwon       2   23  2022-03-14\n",
       "5    kim   23g324  김주영  010-3250-3523  Istanbul       2   32  2022-01-23\n",
       "6  test5    32632   또치  010-3235-3512       Zoo       2   17  2022-02-05"
      ]
     },
     "execution_count": 16,
     "metadata": {},
     "output_type": "execute_result"
    }
   ],
   "source": [
    "dt"
   ]
  },
  {
   "cell_type": "code",
   "execution_count": 29,
   "metadata": {},
   "outputs": [],
   "source": [
    "sql = \"insert into user_info values(%s, %s, %s, %s, %s, %s, %s, %s)\" # %s만 있다.\n",
    "values = [\"test6\", \"32632\", \"또치\", \"010-3235-3512\", \"Zoo\", 2, 17, \"2022-02-05\"]\n",
    "cursor.execute(sql, values)\n",
    "_db.commit()"
   ]
  },
  {
   "cell_type": "code",
   "execution_count": 30,
   "metadata": {},
   "outputs": [],
   "source": [
    "sql = \"insert into user_info values(%s, %s, %s, %s, %s, %s, %s, %s)\"\n",
    "_id = input(\"ID: \")\n",
    "pw = input(\"password: \")\n",
    "name = input(\"name: \")\n",
    "phone = input(\"phone: \")\n",
    "ads = input(\"address: \")\n",
    "gender = int(input(\"gender: \"))\n",
    "age = int(input(\"age: \"))\n",
    "regit_date = input(\"regit_date: \")\n",
    "\n",
    "input_list=[_id, pw, name, phone, ads, gender, age, regit_date]\n",
    "cursor.execute(sql, input_list)\n",
    "_db.commit()"
   ]
  },
  {
   "cell_type": "code",
   "execution_count": null,
   "metadata": {},
   "outputs": [],
   "source": []
  }
 ],
 "metadata": {
  "interpreter": {
   "hash": "b3ba2566441a7c06988d0923437866b63cedc61552a5af99d1f4fb67d367b25f"
  },
  "kernelspec": {
   "display_name": "Python 3.9.7 ('base')",
   "language": "python",
   "name": "python3"
  },
  "language_info": {
   "codemirror_mode": {
    "name": "ipython",
    "version": 3
   },
   "file_extension": ".py",
   "mimetype": "text/x-python",
   "name": "python",
   "nbconvert_exporter": "python",
   "pygments_lexer": "ipython3",
   "version": "3.9.7"
  },
  "orig_nbformat": 4
 },
 "nbformat": 4,
 "nbformat_minor": 2
}
