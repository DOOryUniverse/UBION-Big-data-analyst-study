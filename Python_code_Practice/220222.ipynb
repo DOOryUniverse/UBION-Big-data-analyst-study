{
  "cells": [
    {
      "cell_type": "markdown",
      "metadata": {},
      "source": [
        "# 파이썬 기초-2 (함수, 판다스, 넘파이, 맷플롯립)"
      ]
    },
    {
      "cell_type": "code",
      "execution_count": null,
      "metadata": {
        "colab": {
          "base_uri": "https://localhost:8080/"
        },
        "id": "oD-yFyq2os-E",
        "outputId": "24686f5b-c63d-4868-b914-69922bb8d3dc"
      },
      "outputs": [
        {
          "name": "stdout",
          "output_type": "stream",
          "text": [
            "9\n"
          ]
        }
      ],
      "source": [
        "# 함수: 어떠한 입력 밧을 가지고 작업을 실행하고 결과물을 출력하는 것이다.\n",
        "# 매개변수: 함수에 입력으로 전달된 값을 받는 변수\n",
        "# 인자: 함수를 호출할 때 전달하는 입력 값을 의미한다.\n",
        "\n",
        "\n",
        "def func_1(a,b): # a와 b 는 매개 변수이다.\n",
        "    c=a+b # 지역변수 이다.\n",
        "    return c  # 반환 값 c\n",
        "d=func_1(3,6) # d는 전역 변수 이다.\n",
        "print(d)\n",
        "    "
      ]
    },
    {
      "cell_type": "code",
      "execution_count": null,
      "metadata": {
        "colab": {
          "base_uri": "https://localhost:8080/"
        },
        "id": "88WTM1phD8qk",
        "outputId": "a2e4a868-c282-434d-da71-14ad9fc2cb6b"
      },
      "outputs": [
        {
          "name": "stdout",
          "output_type": "stream",
          "text": [
            "15\n"
          ]
        }
      ],
      "source": [
        "e = func_1(10,5)\n",
        "print(e)"
      ]
    },
    {
      "cell_type": "code",
      "execution_count": null,
      "metadata": {
        "colab": {
          "base_uri": "https://localhost:8080/"
        },
        "id": "EvSpPFWKEMsT",
        "outputId": "a4241f78-8b36-42a6-8fc4-cac18f721c53"
      },
      "outputs": [
        {
          "name": "stdout",
          "output_type": "stream",
          "text": [
            "55\n"
          ]
        }
      ],
      "source": [
        "def func_2(s_num, l_num, a_num): \n",
        "  sum=0\n",
        "  for i in range(s_num, l_num, a_num): # for i in range(1,11,1)\n",
        "      sum += i\n",
        "  return sum\n",
        "_sum = func_2(1,11,1)\n",
        "print(_sum)"
      ]
    },
    {
      "cell_type": "code",
      "execution_count": null,
      "metadata": {
        "colab": {
          "base_uri": "https://localhost:8080/"
        },
        "id": "GKg49xIMu-8y",
        "outputId": "9fb25edf-e3ca-406e-fd90-9ac7e5778dae"
      },
      "outputs": [
        {
          "name": "stdout",
          "output_type": "stream",
          "text": [
            "15\n"
          ]
        }
      ],
      "source": [
        "def val(v1,v2):\n",
        "    gop=v1*v2\n",
        "    return gop\n",
        "print(val(3,5))\n"
      ]
    },
    {
      "cell_type": "code",
      "execution_count": null,
      "metadata": {
        "colab": {
          "base_uri": "https://localhost:8080/"
        },
        "id": "fGaUP4AkIINR",
        "outputId": "8734a00c-5b64-40e6-d551-c4ed2dfd40b8"
      },
      "outputs": [
        {
          "name": "stdout",
          "output_type": "stream",
          "text": [
            "hello\n"
          ]
        }
      ],
      "source": [
        "def func1():\n",
        "  return \"hello\"\n",
        "print(func1())"
      ]
    },
    {
      "cell_type": "code",
      "execution_count": null,
      "metadata": {
        "colab": {
          "base_uri": "https://localhost:8080/"
        },
        "id": "YJFsHYyz_biU",
        "outputId": "622def17-c810-4c4d-e4f4-e520e3c632ef"
      },
      "outputs": [
        {
          "name": "stdout",
          "output_type": "stream",
          "text": [
            "15\n",
            "55\n",
            "30\n"
          ]
        }
      ],
      "source": [
        "def func_3(*args):\n",
        "  result=0\n",
        "  for i in args:\n",
        "    result+=i\n",
        "  return result\n",
        "result=func_3(1,2,3,4,5)\n",
        "print(result)\n",
        "\n",
        "result2=func_3(1,2,3,4,5,6,7,8,9,10)\n",
        "print(result2)\n",
        "\n",
        "result3=func_3(2,4,6,8,10)\n",
        "print(result3)\n"
      ]
    },
    {
      "cell_type": "code",
      "execution_count": null,
      "metadata": {
        "id": "tEaeVUJ5J3jm"
      },
      "outputs": [],
      "source": [
        "\n",
        "import pandas as pd\n",
        "import numpy as np"
      ]
    },
    {
      "cell_type": "code",
      "execution_count": null,
      "metadata": {
        "colab": {
          "base_uri": "https://localhost:8080/"
        },
        "id": "fOnzYBLEKFtu",
        "outputId": "41615392-dbe2-4d4b-e24d-1385c5111fc1"
      },
      "outputs": [
        {
          "name": "stdout",
          "output_type": "stream",
          "text": [
            "아메리카노    5000\n",
            "카페라떼     6000\n",
            "카페모카     6500\n",
            "카푸치노     6500\n",
            "dtype: int64\n"
          ]
        }
      ],
      "source": [
        "pd_list = pd.Series([5000,6000, 6500, 6500],\n",
        "              index=[\"아메리카노\", \"카페라떼\", \"카페모카\", \"카푸치노\"])\n",
        "print(pd_list)"
      ]
    },
    {
      "cell_type": "code",
      "execution_count": null,
      "metadata": {
        "colab": {
          "base_uri": "https://localhost:8080/"
        },
        "id": "62WVMLhBNfZS",
        "outputId": "9cf24e12-d182-4b16-f79d-3571a902c2de"
      },
      "outputs": [
        {
          "name": "stdout",
          "output_type": "stream",
          "text": [
            "스리즈의 값:  [5000 6000 6500 6500]\n",
            "스리즈의 인덱스 값:  Index(['아메리카노', '카페라떼', '카페모카', '카푸치노'], dtype='object')\n"
          ]
        }
      ],
      "source": [
        "print(\"스리즈의 값: \" , pd_list.values)\n",
        "print(\"스리즈의 인덱스 값: \", pd_list.index)\n"
      ]
    },
    {
      "cell_type": "code",
      "execution_count": null,
      "metadata": {
        "colab": {
          "base_uri": "https://localhost:8080/"
        },
        "id": "DSOcMd5JNyu2",
        "outputId": "1fa6f120-a93d-4fae-89e1-0b48e7dd3b28"
      },
      "outputs": [
        {
          "name": "stdout",
          "output_type": "stream",
          "text": [
            "   A  B  C\n",
            "a  1  2  3\n",
            "b  4  5  6\n",
            "c  7  8  9\n"
          ]
        }
      ],
      "source": [
        "_values = [[1,2,3], [4,5,6], [7,8,9]]\n",
        "_index = ['a', 'b', 'c']\n",
        "_columns = ['A', 'B', 'C']\n",
        "\n",
        "pd_dataframe = pd.DataFrame(data=_values, index=_index, columns=_columns)\n",
        "print(pd_dataframe)\n",
        "                            \n"
      ]
    },
    {
      "cell_type": "code",
      "execution_count": null,
      "metadata": {
        "colab": {
          "base_uri": "https://localhost:8080/"
        },
        "id": "AK0oCp4hOyjj",
        "outputId": "46c83d69-4322-4ca4-d16d-d4c75af575a6"
      },
      "outputs": [
        {
          "name": "stdout",
          "output_type": "stream",
          "text": [
            "데이터프레임의 인덱스 값:  Index(['a', 'b', 'c'], dtype='object')\n",
            "데이터프레임의 컬럼 값:  Index(['A', 'B', 'C'], dtype='object')\n",
            "데이터프레임의 값:  [[1 2 3]\n",
            " [4 5 6]\n",
            " [7 8 9]]\n"
          ]
        }
      ],
      "source": [
        "# 데이터프레임의 값과 인덱스 값을 따로 출력\n",
        "\n",
        "print(\"데이터프레임의 인덱스 값: \", pd_dataframe.index)\n",
        "print(\"데이터프레임의 컬럼 값: \", pd_dataframe.columns)\n",
        "print(\"데이터프레임의 값: \", pd_dataframe.values)"
      ]
    },
    {
      "cell_type": "code",
      "execution_count": null,
      "metadata": {
        "colab": {
          "base_uri": "https://localhost:8080/"
        },
        "id": "vCkq1ynFPOKK",
        "outputId": "2047f08d-6010-491c-850e-e90212020bfb"
      },
      "outputs": [
        {
          "name": "stdout",
          "output_type": "stream",
          "text": [
            "   0  1              2\n",
            "0  A  남  010-1234-5678\n",
            "1  B  여  010-4321-8765\n",
            "2  C  여  010-9876-1234\n"
          ]
        }
      ],
      "source": [
        "list_data=[[\"A\", \"남\", \"010-1234-5678\"],\n",
        "           [\"B\", \"여\", \"010-4321-8765\"],\n",
        "           [\"C\", \"여\",\"010-9876-1234\"]]\n",
        "pd_dataframe_2=pd.DataFrame(list_data)\n",
        "print(pd_dataframe_2)"
      ]
    },
    {
      "cell_type": "code",
      "execution_count": null,
      "metadata": {
        "colab": {
          "base_uri": "https://localhost:8080/"
        },
        "id": "TMp6EyPInEWV",
        "outputId": "79940a5d-20cb-438f-e0ec-10c5e7cfc836"
      },
      "outputs": [
        {
          "name": "stdout",
          "output_type": "stream",
          "text": [
            "  이름 성별           전화번호\n",
            "0  A  남  010-1234-5678\n",
            "1  B  여  010-4321-8765\n",
            "2  C  여  010-9876-1234\n"
          ]
        }
      ],
      "source": [
        "list_data_2={\n",
        "    \"이름\": [\"A\", \"B\", \"C\"],\n",
        "    \"성별\": [\"남\", \"여\", \"여\"],\n",
        "    \"전화번호\": [\"010-1234-5678\", \"010-4321-8765\", \"010-9876-1234\"]\n",
        "}\n",
        "pd_dataframe_3=pd.DataFrame(list_data_2)\n",
        "print(pd_dataframe_3)\n"
      ]
    },
    {
      "cell_type": "code",
      "execution_count": null,
      "metadata": {
        "colab": {
          "base_uri": "https://localhost:8080/"
        },
        "id": "bp5aZFIJoX29",
        "outputId": "02253168-18e7-43f0-a9e6-884d199061f2"
      },
      "outputs": [
        {
          "name": "stdout",
          "output_type": "stream",
          "text": [
            "  이름 성별           전화번호\n",
            "0  A  남  010-1234-5678\n"
          ]
        }
      ],
      "source": [
        "print(pd_dataframe_3.head(1))"
      ]
    },
    {
      "cell_type": "code",
      "execution_count": null,
      "metadata": {
        "colab": {
          "base_uri": "https://localhost:8080/"
        },
        "id": "aQau9Fs-oewK",
        "outputId": "90018a5c-2940-4fe2-b605-914da5fa919b"
      },
      "outputs": [
        {
          "name": "stdout",
          "output_type": "stream",
          "text": [
            "  이름 성별           전화번호\n",
            "1  B  여  010-4321-8765\n",
            "2  C  여  010-9876-1234\n"
          ]
        }
      ],
      "source": [
        "print(pd_dataframe_3.tail(2))"
      ]
    },
    {
      "cell_type": "code",
      "execution_count": null,
      "metadata": {
        "colab": {
          "base_uri": "https://localhost:8080/"
        },
        "id": "juq7VcFtolpB",
        "outputId": "04a56d81-1130-4193-875c-0f24e279f748"
      },
      "outputs": [
        {
          "name": "stdout",
          "output_type": "stream",
          "text": [
            "0    남\n",
            "1    여\n",
            "2    여\n",
            "Name: 성별, dtype: object\n"
          ]
        }
      ],
      "source": [
        "print(pd_dataframe_3[\"성별\"])"
      ]
    },
    {
      "cell_type": "code",
      "execution_count": null,
      "metadata": {
        "id": "TKpu3xCTrOvJ"
      },
      "outputs": [],
      "source": [
        "import pandas as pd\n",
        "csv_data = pd.read_csv('/content/drive/MyDrive/example.csv')"
      ]
    },
    {
      "cell_type": "code",
      "execution_count": null,
      "metadata": {
        "colab": {
          "base_uri": "https://localhost:8080/"
        },
        "id": "u2kmBL-4sNN0",
        "outputId": "835f7907-2d8a-4acc-dfd7-d04ff1416cb4"
      },
      "outputs": [
        {
          "name": "stdout",
          "output_type": "stream",
          "text": [
            "  Name  Gender          Phone\n",
            "0    A    male  010-1234-5678\n",
            "1    B  female  010-1234-5679\n",
            "2    C    male  010-1234-5680\n",
            "3    D  female  010-1234-5681\n",
            "4    E    male  010-1234-5682\n",
            "5    F  female  010-1234-5683\n",
            "6    G    male  010-1234-5684\n",
            "7    H  female  010-1234-5685\n",
            "8    I    male  010-1234-5686\n",
            "9    J  female  010-1234-5687\n"
          ]
        }
      ],
      "source": [
        "print(csv_data)"
      ]
    },
    {
      "cell_type": "code",
      "execution_count": null,
      "metadata": {
        "id": "q6nZfkeFu2Kh"
      },
      "outputs": [],
      "source": [
        "# 넘파이\n",
        "import numpy as np"
      ]
    },
    {
      "cell_type": "code",
      "execution_count": null,
      "metadata": {
        "colab": {
          "base_uri": "https://localhost:8080/"
        },
        "id": "6Kg3SLccu6nl",
        "outputId": "ecf79b28-9746-4df6-9313-5021fd5c36d3"
      },
      "outputs": [
        {
          "name": "stdout",
          "output_type": "stream",
          "text": [
            "[1 2 3 4 5]\n"
          ]
        }
      ],
      "source": [
        "# 넘파이의 핵심인 array()는 리스트, 튜플, 배열로 부터 ndarray를 생성한다.\n",
        "# 1차원 배열이든 2차원 배열이든 상관 없이 array를 생성할 수 있다.\n",
        "np_array_1=np.array([1,2,3,4,5])\n",
        "print(np_array_1)"
      ]
    },
    {
      "cell_type": "code",
      "execution_count": null,
      "metadata": {
        "colab": {
          "base_uri": "https://localhost:8080/"
        },
        "id": "5KDA52KAvF9S",
        "outputId": "35efdb05-599e-4fce-e68f-e83e467e6d90"
      },
      "outputs": [
        {
          "name": "stdout",
          "output_type": "stream",
          "text": [
            "[[1 2 3]\n",
            " [4 5 6]]\n"
          ]
        }
      ],
      "source": [
        "np_array_2 = np.array([[1,2,3], [4,5,6]])\n",
        "print(np_array_2)\n"
      ]
    },
    {
      "cell_type": "code",
      "execution_count": null,
      "metadata": {
        "colab": {
          "base_uri": "https://localhost:8080/"
        },
        "id": "3GBFIq5tvj4r",
        "outputId": "8e46456a-3fa8-4c8f-fa99-eae89d33109f"
      },
      "outputs": [
        {
          "name": "stdout",
          "output_type": "stream",
          "text": [
            "array_1의 데이터 타입:  <class 'numpy.ndarray'>\n",
            "array_2의 데이터 타입:  <class 'numpy.ndarray'>\n"
          ]
        }
      ],
      "source": [
        "print(\"array_1의 데이터 타입: \", type(np_array_1))\n",
        "print(\"array_2의 데이터 타입: \",type(np_array_2))\n"
      ]
    },
    {
      "cell_type": "code",
      "execution_count": null,
      "metadata": {
        "colab": {
          "base_uri": "https://localhost:8080/"
        },
        "id": "U5nLxAY2yvNN",
        "outputId": "581eeb5e-e9e3-41dc-d480-c2cc27afe873"
      },
      "outputs": [
        {
          "name": "stdout",
          "output_type": "stream",
          "text": [
            "array_1의 축의 개수:  1\n",
            "array_1의 크기: (5,)\n"
          ]
        }
      ],
      "source": [
        "print(\"array_1의 축의 개수: \", np_array_1.ndim)\n",
        "print(\"array_1의 크기:\", np_array_1.shape)\n"
      ]
    },
    {
      "cell_type": "code",
      "execution_count": null,
      "metadata": {
        "colab": {
          "base_uri": "https://localhost:8080/"
        },
        "id": "Mx1Pn-iUzAHe",
        "outputId": "a278d232-4e04-4c8d-a2c4-0880145a3207"
      },
      "outputs": [
        {
          "name": "stdout",
          "output_type": "stream",
          "text": [
            "array_2의 축의 개수 : 2\n",
            "array_2의 크기:  (2, 3)\n"
          ]
        }
      ],
      "source": [
        "print(\"array_2의 축의 개수 :\", np_array_2.ndim)\n",
        "print(\"array_2의 크기: \", np_array_2.shape)\n"
      ]
    },
    {
      "cell_type": "code",
      "execution_count": null,
      "metadata": {
        "colab": {
          "base_uri": "https://localhost:8080/"
        },
        "id": "z4cYSCuFzVHf",
        "outputId": "d952fe5e-1edc-4e9c-961e-a715ae06eb81"
      },
      "outputs": [
        {
          "name": "stdout",
          "output_type": "stream",
          "text": [
            "[[0. 0. 0.]\n",
            " [0. 0. 0.]\n",
            " [0. 0. 0.]]\n"
          ]
        }
      ],
      "source": [
        "zero_array = np.zeros((3,3))\n",
        "print(zero_array)"
      ]
    },
    {
      "cell_type": "code",
      "execution_count": null,
      "metadata": {
        "colab": {
          "base_uri": "https://localhost:8080/"
        },
        "id": "FDtuCSlq0W4f",
        "outputId": "dd49521c-75a8-4b08-c1ed-3e8cebce9a6b"
      },
      "outputs": [
        {
          "name": "stdout",
          "output_type": "stream",
          "text": [
            "[[1. 1. 1.]\n",
            " [1. 1. 1.]]\n"
          ]
        }
      ],
      "source": [
        "one_array=np.ones((2,3))\n",
        "print(one_array)"
      ]
    },
    {
      "cell_type": "code",
      "execution_count": null,
      "metadata": {
        "colab": {
          "base_uri": "https://localhost:8080/"
        },
        "id": "ogAiK75a1GvG",
        "outputId": "a2ef631d-f9c7-4d00-fb27-e71e0c574c18"
      },
      "outputs": [
        {
          "name": "stdout",
          "output_type": "stream",
          "text": [
            "[[5 5 5 5]\n",
            " [5 5 5 5]\n",
            " [5 5 5 5]]\n"
          ]
        }
      ],
      "source": [
        "full_array=np.full((3,4),5)\n",
        "print(full_array)"
      ]
    },
    {
      "cell_type": "code",
      "execution_count": null,
      "metadata": {
        "colab": {
          "base_uri": "https://localhost:8080/"
        },
        "id": "8rsIZLYg1Njo",
        "outputId": "253defa2-bfb4-42e5-e43c-9330541a932d"
      },
      "outputs": [
        {
          "name": "stdout",
          "output_type": "stream",
          "text": [
            "[[1. 0. 0.]\n",
            " [0. 1. 0.]\n",
            " [0. 0. 1.]]\n"
          ]
        }
      ],
      "source": [
        "eye_array = np.eye(3)\n",
        "print(eye_array)"
      ]
    },
    {
      "cell_type": "code",
      "execution_count": null,
      "metadata": {
        "colab": {
          "base_uri": "https://localhost:8080/"
        },
        "id": "JUB7P5wf1TYU",
        "outputId": "b8ef60d9-c078-43ae-e86c-d2df1c166c45"
      },
      "outputs": [
        {
          "name": "stdout",
          "output_type": "stream",
          "text": [
            "[[0.40202171 0.57374413]\n",
            " [0.18582021 0.46061104]]\n"
          ]
        }
      ],
      "source": [
        "random_array = np.random.random((2,2))\n",
        "print(random_array)"
      ]
    },
    {
      "cell_type": "code",
      "execution_count": null,
      "metadata": {
        "colab": {
          "base_uri": "https://localhost:8080/"
        },
        "id": "hCX7Q2GH1dVP",
        "outputId": "1070a0e5-ebd9-4393-a8a1-ddd90182500b"
      },
      "outputs": [
        {
          "name": "stdout",
          "output_type": "stream",
          "text": [
            "[0 1 2 3 4 5 6 7 8 9]\n"
          ]
        }
      ],
      "source": [
        "arange_array = np.arange(10)\n",
        "print(arange_array)"
      ]
    },
    {
      "cell_type": "code",
      "execution_count": null,
      "metadata": {
        "colab": {
          "base_uri": "https://localhost:8080/"
        },
        "id": "ml8dOOUq1mq6",
        "outputId": "6df877da-41a3-46b6-ce7a-3e7e91ddac7c"
      },
      "outputs": [
        {
          "name": "stdout",
          "output_type": "stream",
          "text": [
            "[ 1  3  5  7  9 11 13 15 17 19]\n"
          ]
        }
      ],
      "source": [
        "arange_array_2 = np.arange(1,20,2)\n",
        "print(arange_array_2)"
      ]
    },
    {
      "cell_type": "code",
      "execution_count": null,
      "metadata": {
        "colab": {
          "base_uri": "https://localhost:8080/"
        },
        "id": "ub7Sx-_j16of",
        "outputId": "6907c217-797e-4f98-f22b-0927b5c83c16"
      },
      "outputs": [
        {
          "name": "stdout",
          "output_type": "stream",
          "text": [
            "[[ 0  1  2  3  4  5]\n",
            " [ 6  7  8  9 10 11]\n",
            " [12 13 14 15 16 17]\n",
            " [18 19 20 21 22 23]\n",
            " [24 25 26 27 28 29]]\n"
          ]
        }
      ],
      "source": [
        "arange_array_3 = np.arange(30)\n",
        "reshape_array=arange_array_3.reshape((5,6))\n",
        "print(reshape_array)"
      ]
    },
    {
      "cell_type": "code",
      "execution_count": null,
      "metadata": {
        "id": "sGGBUIdd3JNC"
      },
      "outputs": [],
      "source": [
        "# 넘파이 연산\n",
        "\n",
        "# np.add(), npe.subract(), npe.multiply(), np.dravie"
      ]
    },
    {
      "cell_type": "code",
      "execution_count": null,
      "metadata": {
        "colab": {
          "base_uri": "https://localhost:8080/"
        },
        "id": "sr3k8NGn3mjg",
        "outputId": "02c23fb0-d5c4-47f4-d247-1927728015cb"
      },
      "outputs": [
        {
          "name": "stdout",
          "output_type": "stream",
          "text": [
            "[5 7 9]\n",
            "[5 7 9]\n"
          ]
        }
      ],
      "source": [
        "# 넘파이 덧셈\n",
        "x = np.array([1,2,3])\n",
        "y= np.array([4,5,6])\n",
        "\n",
        "result=x+y\n",
        "result2 = np.add(x,y)\n",
        "\n",
        "print(result)\n",
        "print(result2)"
      ]
    },
    {
      "cell_type": "code",
      "execution_count": null,
      "metadata": {
        "colab": {
          "base_uri": "https://localhost:8080/"
        },
        "id": "PNrmhnWu3mgE",
        "outputId": "9b511759-85ab-4340-a931-3819b696b086"
      },
      "outputs": [
        {
          "name": "stdout",
          "output_type": "stream",
          "text": [
            "[-3 -3 -3]\n",
            "[-3 -3 -3]\n"
          ]
        }
      ],
      "source": [
        "# 넘파이 뺄셈\n",
        "x = np.array([1,2,3])\n",
        "y = np.array([4,5,6])\n",
        "\n",
        "result=x-y\n",
        "result2 = np.subtract(x,y)\n",
        "\n",
        "print(result)\n",
        "print(result2)"
      ]
    },
    {
      "cell_type": "code",
      "execution_count": null,
      "metadata": {
        "colab": {
          "base_uri": "https://localhost:8080/"
        },
        "id": "g4HTlvKi4qLW",
        "outputId": "972de246-470d-420c-f254-a1fc2e34afec"
      },
      "outputs": [
        {
          "name": "stdout",
          "output_type": "stream",
          "text": [
            "[ 4 10 18]\n",
            "[ 4 10 18]\n"
          ]
        }
      ],
      "source": [
        "# 넘파이 곱셈\n",
        "x = np.array([1,2,3])\n",
        "y = np.array([4,5,6])\n",
        "\n",
        "result=x*y\n",
        "result2 = np.multiply(x,y)\n",
        "\n",
        "print(result)\n",
        "print(result2)"
      ]
    },
    {
      "cell_type": "code",
      "execution_count": null,
      "metadata": {
        "colab": {
          "base_uri": "https://localhost:8080/"
        },
        "id": "DsU1Qa2T3b1A",
        "outputId": "14abe29f-2360-4b4a-d641-e34d92724185"
      },
      "outputs": [
        {
          "name": "stdout",
          "output_type": "stream",
          "text": [
            "[0.25 0.4  0.5 ]\n",
            "[0.25 0.4  0.5 ]\n"
          ]
        }
      ],
      "source": [
        "# 넘파이 나눗셈\n",
        "x = np.array([1,2,3])\n",
        "y = np.array([4,5,6])\n",
        "\n",
        "result=x/y\n",
        "result2 = np.divide(x,y)\n",
        "\n",
        "print(result)\n",
        "print(result2)"
      ]
    },
    {
      "cell_type": "code",
      "execution_count": null,
      "metadata": {
        "colab": {
          "base_uri": "https://localhost:8080/"
        },
        "id": "HgDQ__y22Ys9",
        "outputId": "3540fa03-ace0-4c86-95f2-1972d38582eb"
      },
      "outputs": [
        {
          "name": "stdout",
          "output_type": "stream",
          "text": [
            "[[19 22]\n",
            " [43 50]]\n"
          ]
        }
      ],
      "source": [
        "# 넘파이 행렬 곱셈\n",
        "x = np.array([[1,2], [3,4]])\n",
        "y = np.array([[5,6], [7,8]])\n",
        "\n",
        "z=np.dot(x,y)\n",
        "result = x@y\n",
        "\n",
        "\n",
        "print(result)\n"
      ]
    },
    {
      "cell_type": "code",
      "execution_count": null,
      "metadata": {
        "colab": {
          "background_save": true
        },
        "id": "whNMvZer5rA2",
        "outputId": "bf8505b0-803a-4b7a-f5ae-8c271ebd2ef6"
      },
      "outputs": [
        {
          "data": {
            "image/png": "[encoded data removed]",
            "text/plain": [
              "<Figure size 432x288 with 1 Axes>"
            ]
          },
          "metadata": {},
          "output_type": "display_data"
        }
      ],
      "source": [
        "# 맷플롯립(Matplotlib)\n",
        "import matplotlib.pyplot as plt\n",
        "plt.plot([1,2,3])"
      ]
    },
    {
      "cell_type": "code",
      "execution_count": null,
      "metadata": {
        "colab": {
          "base_uri": "https://localhost:8080/",
          "height": 265
        },
        "id": "zRpgOeo96Wbv",
        "outputId": "6f080ef8-797b-4bc6-9842-c64c6331a7f7"
      },
      "outputs": [
        {
          "data": {
            "image/png": "[encoded data removed]",
            "text/plain": [
              "<Figure size 432x288 with 1 Axes>"
            ]
          },
          "metadata": {
            "needs_background": "light"
          },
          "output_type": "display_data"
        }
      ],
      "source": [
        "# x와 y값 지정\n",
        "plt.plot([1,2,3,4], [1,4,5,10])\n",
        "plt.show()"
      ]
    },
    {
      "cell_type": "code",
      "execution_count": null,
      "metadata": {
        "colab": {
          "base_uri": "https://localhost:8080/",
          "height": 265
        },
        "id": "4dc7OO9P6q5v",
        "outputId": "07015c7d-cb90-47da-84a1-b4f9e9b7b22d"
      },
      "outputs": [
        {
          "data": {
            "image/png": "[encoded data removed]",
            "text/plain": [
              "<Figure size 432x288 with 1 Axes>"
            ]
          },
          "metadata": {
            "needs_background": "light"
          },
          "output_type": "display_data"
        }
      ],
      "source": [
        "# 선 색상 변경\n",
        "plt.plot([1,2,3,4,5], [1,4,5,10,15],\"m\")\n",
        "plt.show()"
      ]
    },
    {
      "cell_type": "code",
      "execution_count": null,
      "metadata": {
        "colab": {
          "base_uri": "https://localhost:8080/",
          "height": 265
        },
        "id": "4HhaobfW66wa",
        "outputId": "a1acce32-b53c-4dc0-f00c-843f460cf9d6"
      },
      "outputs": [
        {
          "data": {
            "image/png": "[encoded data removed]",
            "text/plain": [
              "<Figure size 432x288 with 1 Axes>"
            ]
          },
          "metadata": {
            "needs_background": "light"
          },
          "output_type": "display_data"
        }
      ],
      "source": [
        "# 선 종류 변경\n",
        "plt.plot([1,2,3,4,5], [1,4,5,10,15], \"--r\")\n",
        "plt.plot([1,2,3,4,5], [5,3,7,1,6], \"ob\")\n",
        "plt.plot([1,2,3,4,5], [8,2,5,3,10], \".m\")\n",
        "plt.show()"
      ]
    },
    {
      "cell_type": "code",
      "execution_count": null,
      "metadata": {
        "colab": {
          "base_uri": "https://localhost:8080/",
          "height": 295
        },
        "id": "jybcXL_C8QVp",
        "outputId": "52f984a9-4baa-44a1-c425-2d16ac5c1bcb"
      },
      "outputs": [
        {
          "data": {
            "image/png": "[encoded data removed]",
            "text/plain": [
              "<Figure size 432x288 with 1 Axes>"
            ]
          },
          "metadata": {
            "needs_background": "light"
          },
          "output_type": "display_data"
        }
      ],
      "source": [
        "# x,y 축 레이블 추가\n",
        "# 그래프 제목 추가\n",
        "plt.plot([\"A\", \"B\", \"C\", \"D\"], [75, 80, 90, 100], \"cs--\")\n",
        "plt.xlabel(\"Name\")\n",
        "plt.ylabel(\"Score\")\n",
        "plt.title(\"Board\")\n",
        "plt.show()"
      ]
    },
    {
      "cell_type": "code",
      "execution_count": null,
      "metadata": {
        "colab": {
          "base_uri": "https://localhost:8080/",
          "height": 295
        },
        "id": "wK3aK0ZP83Od",
        "outputId": "91a17d77-0e3b-4eb5-a975-49e017514456"
      },
      "outputs": [
        {
          "data": {
            "image/png": "[encoded data removed]",
            "text/plain": [
              "<Figure size 432x288 with 1 Axes>"
            ]
          },
          "metadata": {
            "needs_background": "light"
          },
          "output_type": "display_data"
        }
      ],
      "source": [
        "# 그래프 범례를 추가\n",
        "plt.plot([\"Maths\", \"Science\", \"History\"], [90,95,80])\n",
        "plt.plot([\"Maths\", \"Science\", \"History\"], [80,75,100])\n",
        "plt.xlabel(\"subject\")\n",
        "plt.ylabel(\"score\")\n",
        "plt.title(\"Score Board\")\n",
        "plt.legend([\"A\", \"B\"])\n",
        "plt.show()"
      ]
    },
    {
      "cell_type": "code",
      "execution_count": null,
      "metadata": {
        "colab": {
          "base_uri": "https://localhost:8080/",
          "height": 295
        },
        "id": "lVxipmxQ9pmf",
        "outputId": "6d381366-6bc5-4e89-f296-bb68e7085f8c"
      },
      "outputs": [
        {
          "data": {
            "image/png": "[encoded data removed]",
            "text/plain": [
              "<Figure size 432x288 with 1 Axes>"
            ]
          },
          "metadata": {
            "needs_background": "light"
          },
          "output_type": "display_data"
        }
      ],
      "source": [
        "# 범례의 위치 지정\n",
        "plt.plot([\"Mathmatics\", \"Science\", \"History\"], [90,95,80], \"s-\") # 사각\n",
        "plt.plot([\"Mathmatics\", \"Science\", \"History\"], [80,75,100], \"s-\")\n",
        "plt.xlabel(\"subject\")\n",
        "plt.ylabel(\"score\")\n",
        "plt.title(\"Score Board\")\n",
        "plt.legend([\"A\", \"B\"], loc=\"lower left\")\n",
        "plt.show()"
      ]
    },
    {
      "cell_type": "code",
      "execution_count": null,
      "metadata": {
        "colab": {
          "base_uri": "https://localhost:8080/",
          "height": 265
        },
        "id": "7jZ-IwBg99SL",
        "outputId": "fc3ae5d3-fcd6-4d9b-cbc0-f243e95a0ecb"
      },
      "outputs": [
        {
          "data": {
            "image/png": "[encoded data removed]",
            "text/plain": [
              "<Figure size 432x288 with 2 Axes>"
            ]
          },
          "metadata": {
            "needs_background": "light"
          },
          "output_type": "display_data"
        }
      ],
      "source": [
        "# 서브 플롯 생성\n",
        "plt.subplot(2,1,1)\n",
        "plt.plot([3,5,1,7])\n",
        "plt.subplot(2,1,2)\n",
        "plt.plot([1,2,3,4])\n",
        "plt.show()"
      ]
    },
    {
      "cell_type": "code",
      "execution_count": null,
      "metadata": {
        "colab": {
          "base_uri": "https://localhost:8080/",
          "height": 265
        },
        "id": "rvD2fwMl-iXk",
        "outputId": "91db9d72-2c75-4474-b2b0-a646cc9da5db"
      },
      "outputs": [
        {
          "data": {
            "image/png": "[encoded data removed]",
            "text/plain": [
              "<Figure size 432x288 with 1 Axes>"
            ]
          },
          "metadata": {
            "needs_background": "light"
          },
          "output_type": "display_data"
        }
      ],
      "source": [
        "# 바형 그래프\n",
        "x = [1,2,3]\n",
        "\n",
        "plt.bar(x, [80, 90, 65])\n",
        "plt.show()"
      ]
    },
    {
      "cell_type": "code",
      "execution_count": null,
      "metadata": {
        "colab": {
          "base_uri": "https://localhost:8080/",
          "height": 265
        },
        "id": "BU_Viadc-yNx",
        "outputId": "16b1c53c-4b71-4e33-98f7-3e288c901887"
      },
      "outputs": [
        {
          "data": {
            "image/png": "[encoded data removed]",
            "text/plain": [
              "<Figure size 432x288 with 1 Axes>"
            ]
          },
          "metadata": {
            "needs_background": "light"
          },
          "output_type": "display_data"
        }
      ],
      "source": [
        "# x축의 레이블 값의 변경\n",
        "x = [1,2,3,4,5]\n",
        "\n",
        "plt.bar(x, [80, 90, 65,100,95])\n",
        "plt.xticks(x, [\"Maths\", \"Science\", \"History\", \"English\", \"Korean\"])\n",
        "plt.show()"
      ]
    },
    {
      "cell_type": "code",
      "execution_count": null,
      "metadata": {
        "colab": {
          "base_uri": "https://localhost:8080/",
          "height": 265
        },
        "id": "gisEfLIq_Hch",
        "outputId": "ee7fe3c8-9456-4da2-eb02-3746a8bf6c20"
      },
      "outputs": [
        {
          "data": {
            "image/png": "[encoded data removed]",
            "text/plain": [
              "<Figure size 432x288 with 1 Axes>"
            ]
          },
          "metadata": {
            "needs_background": "light"
          },
          "output_type": "display_data"
        }
      ],
      "source": [
        "# 그래프 색상 변경\n",
        "x=[1,2,3]\n",
        "plt.bar(x, [80, 90, 65], color= \"b\")\n",
        "plt.xticks(x, [\"Maths\", \"Science\", \"History\"])\n",
        "plt.show()"
      ]
    },
    {
      "cell_type": "code",
      "execution_count": null,
      "metadata": {
        "colab": {
          "base_uri": "https://localhost:8080/",
          "height": 265
        },
        "id": "oGbtcPXyByRp",
        "outputId": "60c817be-9356-4e1e-82c9-5e2345e3b55e"
      },
      "outputs": [
        {
          "data": {
            "image/png": "[encoded data removed]",
            "text/plain": [
              "<Figure size 432x288 with 1 Axes>"
            ]
          },
          "metadata": {
            "needs_background": "light"
          },
          "output_type": "display_data"
        }
      ],
      "source": [
        "x=[1,2,3]\n",
        "plt.bar(x, [80, 90, 65], color=[\"b\",\"c\",\"y\"])\n",
        "plt.xticks(x, [\"Maths\", \"Science\", \"History\"])\n",
        "plt.show()"
      ]
    },
    {
      "cell_type": "code",
      "execution_count": null,
      "metadata": {
        "colab": {
          "base_uri": "https://localhost:8080/",
          "height": 265
        },
        "id": "VwW1Ao27CENz",
        "outputId": "98db3c0b-64c4-46a5-863f-434d41280710"
      },
      "outputs": [
        {
          "data": {
            "image/png": "[encoded data removed]",
            "text/plain": [
              "<Figure size 432x288 with 1 Axes>"
            ]
          },
          "metadata": {
            "needs_background": "light"
          },
          "output_type": "display_data"
        }
      ],
      "source": [
        "# 그래프 폭 지정하기\n",
        "x=[1,2,3]\n",
        "plt.bar(x, [80, 90, 65], color=[\"r\",\"g\",\"b\"], width = 0.5)\n",
        "plt.xticks(x, [\"Maths\", \"Science\", \"History\"])\n",
        "plt.show()"
      ]
    },
    {
      "cell_type": "code",
      "execution_count": null,
      "metadata": {
        "colab": {
          "base_uri": "https://localhost:8080/",
          "height": 265
        },
        "id": "vbb-QhKoLNtT",
        "outputId": "6f8ce6ac-5ef3-42f9-94f8-cc0f253dcf09"
      },
      "outputs": [
        {
          "data": {
            "image/png": "[encoded data removed]",
            "text/plain": [
              "<Figure size 432x288 with 1 Axes>"
            ]
          },
          "metadata": {
            "needs_background": "light"
          },
          "output_type": "display_data"
        }
      ],
      "source": [
        "# 색깔 랜덤으로 바꾸기\n",
        "x=[1,2,3]\n",
        "\n",
        "plt.bar(x, [80, 90, 65], color=[np.random.rand(3),np.random.rand(3),np.random.rand(3)], width = 0.5)\n",
        "plt.xticks(x, [\"Maths\", \"Science\", \"History\"])\n",
        "plt.show()"
      ]
    },
    {
      "cell_type": "code",
      "execution_count": null,
      "metadata": {
        "colab": {
          "base_uri": "https://localhost:8080/",
          "height": 265
        },
        "id": "jL4cVRmNCzLf",
        "outputId": "00e8f11d-e5ae-47a1-8f7d-6a9b27551f2c"
      },
      "outputs": [
        {
          "data": {
            "image/png": "[encoded data removed]",
            "text/plain": [
              "<Figure size 432x288 with 1 Axes>"
            ]
          },
          "metadata": {
            "needs_background": "light"
          },
          "output_type": "display_data"
        }
      ],
      "source": [
        "# 산점도 생성\n",
        "import numpy as np\n",
        "x=np.random.rand(100)\n",
        "y=np.random.rand(100)\n",
        "\n",
        "plt.scatter(x,y)\n",
        "plt.show()"
      ]
    },
    {
      "cell_type": "code",
      "execution_count": null,
      "metadata": {
        "colab": {
          "base_uri": "https://localhost:8080/",
          "height": 265
        },
        "id": "MDlHJTeLDE_g",
        "outputId": "f8bac1e3-512a-4ead-8207-59091d7a52e2"
      },
      "outputs": [
        {
          "data": {
            "image/png": "[encoded data removed]",
            "text/plain": [
              "<Figure size 432x288 with 2 Axes>"
            ]
          },
          "metadata": {
            "needs_background": "light"
          },
          "output_type": "display_data"
        }
      ],
      "source": [
        "import numpy as np\n",
        "\n",
        "x = np.random.rand(50)\n",
        "y = np.random.rand(50)\n",
        "area = (20* np.random.rand(50))*2 # 산점도를 그릴때 기본 값\n",
        "colors = np.random.rand(50)\n",
        "\n",
        "plt.scatter(x,y, s=area, c=colors, alpha=2) # alpha는 투명도 결정\n",
        "plt.summer() # 컬러맵 설정\n",
        "plt.colorbar() # 컬러바 추가\n",
        "plt.show()"
      ]
    }
  ],
  "metadata": {
    "colab": {
      "collapsed_sections": [],
      "name": "2월22일 파이썬 기초-2.ipynb",
      "provenance": []
    },
    "kernelspec": {
      "display_name": "Python 3",
      "name": "python3"
    },
    "language_info": {
      "name": "python"
    }
  },
  "nbformat": 4,
  "nbformat_minor": 0
}
