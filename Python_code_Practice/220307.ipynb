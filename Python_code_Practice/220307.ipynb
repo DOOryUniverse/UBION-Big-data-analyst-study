{
 "cells": [
  {
   "cell_type": "markdown",
   "metadata": {},
   "source": [
    "# 파이썬- 클래스 기초"
   ]
  },
  {
   "cell_type": "code",
   "execution_count": 1,
   "metadata": {},
   "outputs": [
    {
     "name": "stdout",
     "output_type": "stream",
     "text": [
      "Hello world\n"
     ]
    }
   ],
   "source": [
    "# 클래스 생성\n",
    "class Class_1():\n",
    "    def func_1(self): # 자기 자신을 부르는 것\n",
    "        print(\"Hello world\")\n",
    "\n",
    "a = Class_1()\n",
    "a.func_1()\n",
    "\n"
   ]
  },
  {
   "cell_type": "code",
   "execution_count": 2,
   "metadata": {},
   "outputs": [
    {
     "name": "stdout",
     "output_type": "stream",
     "text": [
      "Hello world\n"
     ]
    }
   ],
   "source": [
    "class Class_2():\n",
    "    def func_2(self): # self 는 매개변수로 꼭 넣어줘야 한다.\n",
    "        print(\"Hello world\")\n",
    "b = Class_1()\n",
    "b.func_1()\n",
    "        "
   ]
  },
  {
   "cell_type": "code",
   "execution_count": 3,
   "metadata": {},
   "outputs": [],
   "source": [
    "class Class_3():\n",
    "    def __init__(self, input_a, input_b): # init 함수는 클래스가 생성될때 실행이 되게 한다.(초기화 시킨다), self 는 자기 자신의 주소이다.\n",
    "        \n",
    "        self.a=input_a # 클래스 내부의 변수 지정\n",
    "        self.b=input_b\n",
    "c = Class_3(\"test\", \"test2\") #  클래스 생성, c가 결국 self 이다."
   ]
  },
  {
   "cell_type": "code",
   "execution_count": 4,
   "metadata": {},
   "outputs": [
    {
     "data": {
      "text/plain": [
       "'test'"
      ]
     },
     "execution_count": 4,
     "metadata": {},
     "output_type": "execute_result"
    }
   ],
   "source": [
    "c.a "
   ]
  },
  {
   "cell_type": "code",
   "execution_count": 5,
   "metadata": {},
   "outputs": [],
   "source": [
    "d = Class_3(\"test3\", \"test4\")"
   ]
  },
  {
   "cell_type": "code",
   "execution_count": 6,
   "metadata": {},
   "outputs": [
    {
     "data": {
      "text/plain": [
       "'test3'"
      ]
     },
     "execution_count": 6,
     "metadata": {},
     "output_type": "execute_result"
    }
   ],
   "source": [
    "# 클래스 변수는 독립적인 공간에서 공유할 수 있는 것\n",
    "d.a"
   ]
  },
  {
   "cell_type": "code",
   "execution_count": 7,
   "metadata": {},
   "outputs": [
    {
     "data": {
      "text/plain": [
       "2166972161456"
      ]
     },
     "execution_count": 7,
     "metadata": {},
     "output_type": "execute_result"
    }
   ],
   "source": [
    "id(c.a)  # 메모리 어디에 저장되어 있는지 확인 가능한 함수"
   ]
  },
  {
   "cell_type": "code",
   "execution_count": 8,
   "metadata": {},
   "outputs": [
    {
     "data": {
      "text/plain": [
       "2167055563760"
      ]
     },
     "execution_count": 8,
     "metadata": {},
     "output_type": "execute_result"
    }
   ],
   "source": [
    "id(c.b)"
   ]
  },
  {
   "cell_type": "code",
   "execution_count": 9,
   "metadata": {},
   "outputs": [
    {
     "data": {
      "text/plain": [
       "2167055757680"
      ]
     },
     "execution_count": 9,
     "metadata": {},
     "output_type": "execute_result"
    }
   ],
   "source": [
    "id(d.a)"
   ]
  },
  {
   "cell_type": "code",
   "execution_count": 24,
   "metadata": {},
   "outputs": [],
   "source": [
    "class Class_4(): # 클래스 선언\n",
    "    name = \"test\" # name은 클래스 변수\n",
    "    \n",
    "    def __init__(self, input_c):  # 같은 값이지만 서로 다른 곳에서 올 것이다.\n",
    "        self.c = input_c\n",
    "\n",
    "a = Class_4(\"123\")\n",
    "b = Class_4(\"456\")\n",
    "c = Class_4('789')\n",
    "    \n",
    "    \n",
    "        "
   ]
  },
  {
   "cell_type": "code",
   "execution_count": 25,
   "metadata": {},
   "outputs": [
    {
     "name": "stdout",
     "output_type": "stream",
     "text": [
      "test test test\n",
      "123 456 789\n",
      "2166972161456\n",
      "2166972161456\n",
      "2166972161456\n",
      "2167035514032\n",
      "2167038323248\n",
      "2167055693040\n"
     ]
    }
   ],
   "source": [
    "print(a.name, b.name, c.name)\n",
    "print(a.c, b.c, c.c)\n",
    "print(id(a.name))  # 클래스 변수로 되어 있는 것은 독립적이더라도 주소가 같다.\n",
    "print(id(b.name))\n",
    "print(id(c.name))\n",
    "print(id(a.c))\n",
    "print(id(b.c))\n",
    "print(id(c.c))"
   ]
  },
  {
   "cell_type": "code",
   "execution_count": 12,
   "metadata": {},
   "outputs": [
    {
     "name": "stdout",
     "output_type": "stream",
     "text": [
      "['01012345678'] ['01098765432']\n"
     ]
    }
   ],
   "source": [
    "class Class_5(): # 클래스는 반복적인 작업을 할 때 수월 하게 사용 할 수 있다.\n",
    "   \n",
    "    \n",
    "    def __init__(self, input_name):\n",
    "        self._list = []\n",
    "        self.name = input_name\n",
    "        \n",
    "    def add_list(self, input_phone):\n",
    "        self._list.append(input_phone)\n",
    "        \n",
    "d = Class_5(\"test\")\n",
    "e = Class_5(\"test\")\n",
    "d.add_list(\"01012345678\")\n",
    "e.add_list(\"01098765432\")\n",
    "print(d._list, e._list)"
   ]
  },
  {
   "cell_type": "code",
   "execution_count": 13,
   "metadata": {},
   "outputs": [
    {
     "name": "stdout",
     "output_type": "stream",
     "text": [
      "['01012345678', '2638124'] ['01098765432', '7192734']\n"
     ]
    }
   ],
   "source": [
    "d.add_list(\"2638124\")  # 서로 다른 공간에 있기 때문에 따로따로 리스트에 추가된다.\n",
    "e.add_list(\"7192734\")\n",
    "print(d._list, e._list)"
   ]
  },
  {
   "cell_type": "code",
   "execution_count": 14,
   "metadata": {},
   "outputs": [
    {
     "name": "stdout",
     "output_type": "stream",
     "text": [
      "3\n",
      "8\n"
     ]
    }
   ],
   "source": [
    "sum = 0\n",
    "\n",
    "def add(x):\n",
    "    global sum\n",
    "    sum += x\n",
    "    return sum\n",
    "print(add(3))\n",
    "print(add(5))"
   ]
  },
  {
   "cell_type": "code",
   "execution_count": 15,
   "metadata": {},
   "outputs": [
    {
     "name": "stdout",
     "output_type": "stream",
     "text": [
      "3\n",
      "4\n",
      "13\n",
      "5\n"
     ]
    }
   ],
   "source": [
    "sum_1=0\n",
    "sum_2=0\n",
    "def add_1(x):\n",
    "    global sum_1\n",
    "    sum_1 +=x\n",
    "    return sum_1\n",
    "def add_2(x):\n",
    "    global sum_2\n",
    "    sum_2+=x\n",
    "    return sum_2\n",
    "print(add_1(3))\n",
    "print(add_2(4))\n",
    "print(add_1(10))\n",
    "print(add_2(1))"
   ]
  },
  {
   "cell_type": "code",
   "execution_count": 26,
   "metadata": {},
   "outputs": [
    {
     "name": "stdout",
     "output_type": "stream",
     "text": [
      "5\n",
      "7\n",
      "12\n",
      "17\n"
     ]
    }
   ],
   "source": [
    "class Class_6(): \n",
    "    \n",
    "    def __init__(self):  # 같은 값이지만 서로 다른 곳에서 올 것이다.\n",
    "        self._sum=0 #  클래스마다 다른 sum을 넣어주기 위해 함\n",
    "        \n",
    "    def add(self, input_x):  # 같은 값이지만 서로 다른 곳에서 올 것이다.\n",
    "        self._sum+= input_x\n",
    "        return self._sum\n",
    "\n",
    "a = Class_6()\n",
    "b = Class_6()\n",
    "\n",
    "print(a.add(5))\n",
    "print(b.add(7))\n",
    "print(a.add(7))\n",
    "print(b.add(10))\n",
    "\n",
    "    \n",
    "    "
   ]
  },
  {
   "cell_type": "code",
   "execution_count": 17,
   "metadata": {},
   "outputs": [
    {
     "name": "stdout",
     "output_type": "stream",
     "text": [
      "5\n"
     ]
    }
   ],
   "source": [
    "class Class_7():\n",
    "    sum_1=0\n",
    "    sum_2=0\n",
    "    \n",
    "    def __init__(self):  # 같은 값이지만 서로 다른 곳에서 올 것이다.\n",
    "        self._sum=0 #  클래스마다 다른 sum을 넣어주기 위해 함\n",
    "        \n",
    "    def add(self, input_x):  # 같은 값이지만 서로 다른 곳에서 올 것이다.\n",
    "        self._sum+= input_x\n",
    "        \n",
    "\n",
    "a = Class_7()\n",
    "b = Class_7()\n",
    "\n",
    "a.add(5)\n",
    "print(a._sum)"
   ]
  },
  {
   "cell_type": "code",
   "execution_count": 27,
   "metadata": {},
   "outputs": [
    {
     "name": "stdout",
     "output_type": "stream",
     "text": [
      "10\n",
      "4\n",
      "21\n",
      "2.3333333333333335\n"
     ]
    }
   ],
   "source": [
    "# Class 생성 -> 초기에 인자값 2개를 입력 받아서 변수 2개 이 값들을 지정\n",
    "# 첫 번째 함수 변수 2개의 값을 변경을 하는 함수\n",
    "# 이 후에 6개의 함수는 변수 2개의  +, -, x, /, % 의 함수를 지정해서 만들기\n",
    "# 7개의 함수를 다 실행을 해보기\n",
    "# if 문의 함수를 통해\n",
    "\n",
    "\n",
    "class Class_8(): # 클래스는 반복적인 작업을 할 때 수월 하게 사용 할 수 있다.\n",
    "   \n",
    "    \n",
    "    def __init__(self, input_1, input_2):\n",
    "        # 클래스 생성이 되고 인자 값 2개를 변수 2개에 지정을 해주는 과정\n",
    "        self.input_1=input_1\n",
    "        self.input_2=input_2\n",
    "    \n",
    "    def change (self, input_1, input_2):\n",
    "        self.input_1= input_1\n",
    "        self.input_2= input_2\n",
    "        \n",
    "    def add (self):\n",
    "        result = self.input_1 + self.input_2\n",
    "        return result\n",
    "    \n",
    "    def minus (self):\n",
    "        result = self.input_1 - self.input_2\n",
    "        return result\n",
    "    \n",
    "    def gop (self,):\n",
    "        result = self.input_1 * self.input_2\n",
    "        return result\n",
    "    \n",
    "    def divide (self):\n",
    "        if self.input_2 == 0:\n",
    "            return 0;\n",
    "        else:\n",
    "            return self.input_1 / self.input_2\n",
    "    def rem(self):\n",
    "        if self.b == 0:\n",
    "            return 0\n",
    "        else:\n",
    "            return self.a % self.b\n",
    "            \n",
    "            \n",
    "    \n",
    "    \n",
    "    \n",
    "        \n",
    "a = Class_8(7,3)\n",
    "\n",
    "print(a.add())\n",
    "print(a.minus())\n",
    "print(a.gop())\n",
    "print(a.divide())\n",
    "\n",
    "\n",
    "\n",
    "  \n",
    "        \n",
    "\n"
   ]
  },
  {
   "cell_type": "code",
   "execution_count": 19,
   "metadata": {},
   "outputs": [
    {
     "name": "stdout",
     "output_type": "stream",
     "text": [
      "15.0\n",
      "30\n"
     ]
    }
   ],
   "source": [
    "# class  밑변의 길이, 높이 인자 값으로 넣어주는 클래스를 생성\n",
    "# 삼각형일때 넓이, 사각형 넓이 구하는 함수를 생성\n",
    "# 함수는 init을 제외한 단 1개의 함수로 구성이 되는 클래스를 생성\n",
    "# init이 아닌 함수 인자값에서 삼각형의 넓이인지 사각형의 넓이인지 지정을 해줍시다.\n",
    "class Class_9():\n",
    "    \n",
    "    def __init__(self, input_a, input_b): \n",
    "        self.input_a=input_a \n",
    "        self.input_b=input_b \n",
    "        \n",
    "    def width(self, x):  # 같은 값이지만 서로 다른 곳에서 올 것이다.\n",
    "        if x == \"사각형\":\n",
    "            return self.input_a * self.input_b\n",
    "            \n",
    "        elif x == \"삼각형\":\n",
    "            return self.input_a * self.input_b*0.5\n",
    "        else:\n",
    "            return \"지정된 값이 아니다.\"\n",
    "\n",
    "a = Class_9(5,6)\n",
    "print(a.width(\"삼각형\"))\n",
    "print(a.width(\"사각형\"))\n"
   ]
  },
  {
   "cell_type": "code",
   "execution_count": 20,
   "metadata": {},
   "outputs": [
    {
     "name": "stdout",
     "output_type": "stream",
     "text": [
      "[18.84, 28.26]\n"
     ]
    }
   ],
   "source": [
    "# 원의 넓이와 둘레 길이 구하는 클래스 만들기\n",
    "class Class_10():\n",
    "    _pie = 3.14 #  pie라는 클래스 변수\n",
    "    \n",
    "    def area(self, r):\n",
    "       self.result = []\n",
    "       self.result.append(2*self._pie * r)\n",
    "       self.result.append(self._pie *(r**2))\n",
    "       return self.result\n",
    "x = Class_10()\n",
    "print(x.area(3))\n",
    "                          \n",
    "    \n"
   ]
  },
  {
   "cell_type": "code",
   "execution_count": 21,
   "metadata": {},
   "outputs": [
    {
     "name": "stdout",
     "output_type": "stream",
     "text": [
      "[15.42, 14.13]\n",
      "[18.84, 28.26]\n"
     ]
    }
   ],
   "source": [
    "# 클래스 상속 기능 추가\n",
    "# def __init__(self, 특정 변수) 특정변수가 있을 경우 밑에 x= Class_11(특정값)이어야 한다.\n",
    "class Class_11(Class_10):\n",
    "    def __init__(self, input_r):\n",
    "        self.r = input_r\n",
    "        \n",
    "    def half(self):\n",
    "        self.result = []\n",
    "        self.result.append(self._pie * self.r + 2 * self.r)\n",
    "        self.result.append(self._pie * (self.r **2)/2)\n",
    "        return self.result\n",
    "    \n",
    "y = Class_11(3)\n",
    "print(y.half())\n",
    "print(y.area(3))\n",
    "    \n"
   ]
  },
  {
   "cell_type": "code",
   "execution_count": 22,
   "metadata": {},
   "outputs": [
    {
     "name": "stdout",
     "output_type": "stream",
     "text": [
      "[15.42, 14.13]\n",
      "[15.42, 28.26]\n",
      "[18.84, 28.26]\n"
     ]
    }
   ],
   "source": [
    "# 상속받은 클래스의 함수 변경\n",
    "# 속성= 변수, 매서드= 함수 이다.\n",
    "class Class_11(Class_10):\n",
    "    def __init__(self, input_r):\n",
    "        self.r = input_r\n",
    "        \n",
    "    def half(self):\n",
    "        self.result = []\n",
    "        self.result.append(self._pie * self.r + 2 * self.r)\n",
    "        self.result.append(self._pie * (self.r **2)/2)\n",
    "        return self.result\n",
    "    def area(self):\n",
    "        self.result = []\n",
    "        self.result.append(self._pie * self.r + 2 * self.r)\n",
    "        self.result.append(self._pie * (self.r **2))\n",
    "        return self.result\n",
    "    \n",
    "y = Class_11(3)\n",
    "print(y.half())\n",
    "print(y.area())\n",
    "print(x.area(3))"
   ]
  },
  {
   "cell_type": "code",
   "execution_count": null,
   "metadata": {},
   "outputs": [],
   "source": []
  }
 ],
 "metadata": {
  "interpreter": {
   "hash": "b3ba2566441a7c06988d0923437866b63cedc61552a5af99d1f4fb67d367b25f"
  },
  "kernelspec": {
   "display_name": "Python 3.9.7 ('base')",
   "language": "python",
   "name": "python3"
  },
  "language_info": {
   "codemirror_mode": {
    "name": "ipython",
    "version": 3
   },
   "file_extension": ".py",
   "mimetype": "text/x-python",
   "name": "python",
   "nbconvert_exporter": "python",
   "pygments_lexer": "ipython3",
   "version": "3.9.7"
  },
  "orig_nbformat": 4
 },
 "nbformat": 4,
 "nbformat_minor": 2
}
