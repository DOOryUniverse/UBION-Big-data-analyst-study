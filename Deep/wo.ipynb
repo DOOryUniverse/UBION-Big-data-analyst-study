{
 "cells": [
  {
   "cell_type": "code",
   "execution_count": 1,
   "metadata": {},
   "outputs": [],
   "source": [
    "import pandas as pd\n",
    "import numpy as np\n",
    "column=[\"datetime\"]\n",
    "a=pd.date_range(\"2021-04-01 09:00:00\", \"2022-04-26 15:30:00\", freq=\"T\")\n",
    "b=pd.DataFrame(data=a, columns=column)\n",
    "\n",
    "\n",
    "c = b['datetime'].apply(lambda x : str(x))\n",
    "\n",
    "d= c.to_frame()\n",
    "\n",
    "d[['date', 'time']] = pd.DataFrame(d.datetime.str.split(' ', 2).tolist())"
   ]
  }
 ],
 "metadata": {
  "interpreter": {
   "hash": "b3ba2566441a7c06988d0923437866b63cedc61552a5af99d1f4fb67d367b25f"
  },
  "kernelspec": {
   "display_name": "Python 3.9.7 ('base')",
   "language": "python",
   "name": "python3"
  },
  "language_info": {
   "codemirror_mode": {
    "name": "ipython",
    "version": 3
   },
   "file_extension": ".py",
   "mimetype": "text/x-python",
   "name": "python",
   "nbconvert_exporter": "python",
   "pygments_lexer": "ipython3",
   "version": "3.9.7"
  },
  "orig_nbformat": 4
 },
 "nbformat": 4,
 "nbformat_minor": 2
}
