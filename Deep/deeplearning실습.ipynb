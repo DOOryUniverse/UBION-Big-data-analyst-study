{
 "cells": [
  {
   "cell_type": "code",
   "execution_count": 9,
   "metadata": {},
   "outputs": [
    {
     "name": "stdout",
     "output_type": "stream",
     "text": [
      "Epoch 1/10\n",
      "47/47 [==============================] - 0s 644us/step - loss: 0.6482 - accuracy: 0.8128\n",
      "Epoch 2/10\n",
      "47/47 [==============================] - 0s 892us/step - loss: 0.4890 - accuracy: 0.8468\n",
      "Epoch 3/10\n",
      "47/47 [==============================] - 0s 838us/step - loss: 0.4416 - accuracy: 0.8511\n",
      "Epoch 4/10\n",
      "47/47 [==============================] - 0s 918us/step - loss: 0.4863 - accuracy: 0.8489\n",
      "Epoch 5/10\n",
      "47/47 [==============================] - 0s 827us/step - loss: 0.4430 - accuracy: 0.8532\n",
      "Epoch 6/10\n",
      "47/47 [==============================] - 0s 737us/step - loss: 0.4303 - accuracy: 0.8532\n",
      "Epoch 7/10\n",
      "47/47 [==============================] - 0s 848us/step - loss: 0.4421 - accuracy: 0.8511\n",
      "Epoch 8/10\n",
      "47/47 [==============================] - 0s 857us/step - loss: 0.4363 - accuracy: 0.8489\n",
      "Epoch 9/10\n",
      "47/47 [==============================] - 0s 807us/step - loss: 0.4165 - accuracy: 0.8489\n",
      "Epoch 10/10\n",
      "47/47 [==============================] - 0s 644us/step - loss: 0.4317 - accuracy: 0.8489\n"
     ]
    }
   ],
   "source": [
    "from tensorflow.keras.models import Sequential\n",
    "from tensorflow.keras.layers import Dense\n",
    "\n",
    "import numpy as np\n",
    "import tensorflow as tf\n",
    "\n",
    "# 실행할 때마다 같은 결과를 출력하기 위해 설정하는 부분이다.\n",
    "np.random.seed(3)\n",
    "tf.random.set_seed(3)\n",
    "\n",
    "Data_set = np.loadtxt(\"./ThoraricSurgery.csv\", delimiter =\",\")\n",
    "\n",
    "# 환자의 기록과 수술 결과를 X와 Y로 구분하여 저장한다.\n",
    "X=Data_set[:,0:17]\n",
    "Y=Data_set[:,17]\n",
    "\n",
    "# 딥러닝 구조를 결정한다.\n",
    "model =Sequential()\n",
    "model.add(Dense(30, input_dim=17, activation=\"relu\"))\n",
    "model.add(Dense(1, activation=\"sigmoid\"))\n",
    "\n",
    "# 딥러닝을 실행한다.\n",
    "model.compile(loss=\"binary_crossentropy\", optimizer=\"adam\", metrics=['accuracy'])\n",
    "history = model.fit(X, Y , epochs=10, batch_size=10)\n",
    "\n"
   ]
  },
  {
   "cell_type": "code",
   "execution_count": 11,
   "metadata": {},
   "outputs": [
    {
     "data": {
      "text/plain": [
       "{'loss': [0.6482216715812683,\n",
       "  0.48902347683906555,\n",
       "  0.44164735078811646,\n",
       "  0.4862949252128601,\n",
       "  0.4430175721645355,\n",
       "  0.43030914664268494,\n",
       "  0.4421369135379791,\n",
       "  0.43626195192337036,\n",
       "  0.4164518117904663,\n",
       "  0.4317093789577484],\n",
       " 'accuracy': [0.8127659559249878,\n",
       "  0.8468084931373596,\n",
       "  0.8510638475418091,\n",
       "  0.848936140537262,\n",
       "  0.8531914949417114,\n",
       "  0.8531914949417114,\n",
       "  0.8510638475418091,\n",
       "  0.848936140537262,\n",
       "  0.848936140537262,\n",
       "  0.848936140537262]}"
      ]
     },
     "execution_count": 11,
     "metadata": {},
     "output_type": "execute_result"
    }
   ],
   "source": [
    "history.history"
   ]
  },
  {
   "cell_type": "code",
   "execution_count": 12,
   "metadata": {},
   "outputs": [
    {
     "data": {
      "text/plain": [
       "[0.8127659559249878,\n",
       " 0.8468084931373596,\n",
       " 0.8510638475418091,\n",
       " 0.848936140537262,\n",
       " 0.8531914949417114,\n",
       " 0.8531914949417114,\n",
       " 0.8510638475418091,\n",
       " 0.848936140537262,\n",
       " 0.848936140537262,\n",
       " 0.848936140537262]"
      ]
     },
     "execution_count": 12,
     "metadata": {},
     "output_type": "execute_result"
    }
   ],
   "source": [
    "history.history[\"accuracy\"]"
   ]
  },
  {
   "cell_type": "code",
   "execution_count": 22,
   "metadata": {},
   "outputs": [
    {
     "data": {
      "image/png": "[encoded data removed]",
      "text/plain": [
       "<Figure size 432x288 with 1 Axes>"
      ]
     },
     "metadata": {
      "needs_background": "light"
     },
     "output_type": "display_data"
    }
   ],
   "source": [
    "import matplotlib.pyplot as plt \n",
    "plt.plot(history.history[\"loss\"], marker = \"*\")\n",
    "plt.plot(history.history[\"accuracy\"], marker = \"o\")\n",
    "plt.show()"
   ]
  },
  {
   "cell_type": "code",
   "execution_count": null,
   "metadata": {},
   "outputs": [],
   "source": []
  }
 ],
 "metadata": {
  "interpreter": {
   "hash": "b3ba2566441a7c06988d0923437866b63cedc61552a5af99d1f4fb67d367b25f"
  },
  "kernelspec": {
   "display_name": "Python 3.9.7 ('base')",
   "language": "python",
   "name": "python3"
  },
  "language_info": {
   "codemirror_mode": {
    "name": "ipython",
    "version": 3
   },
   "file_extension": ".py",
   "mimetype": "text/x-python",
   "name": "python",
   "nbconvert_exporter": "python",
   "pygments_lexer": "ipython3",
   "version": "3.9.7"
  },
  "orig_nbformat": 4
 },
 "nbformat": 4,
 "nbformat_minor": 2
}
